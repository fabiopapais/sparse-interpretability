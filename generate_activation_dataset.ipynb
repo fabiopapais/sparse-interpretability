{
 "cells": [
  {
   "cell_type": "code",
   "execution_count": 1,
   "metadata": {},
   "outputs": [
    {
     "data": {
      "text/plain": [
       "<torch._C.Generator at 0x722d51384f90>"
      ]
     },
     "execution_count": 1,
     "metadata": {},
     "output_type": "execute_result"
    }
   ],
   "source": [
    "# import transformer_lens\n",
    "# import transformer_lens.utils as utils\n",
    "# from transformer_lens.hook_points import (\n",
    "    # HookPoint,\n",
    "# )  # Hooking utilities\n",
    "from transformer_lens import HookedTransformer\n",
    "from tqdm import tqdm\n",
    "import torch\n",
    "from torch.utils.data import DataLoader\n",
    "import datasets\n",
    "\n",
    "torch.manual_seed(42)"
   ]
  },
  {
   "cell_type": "markdown",
   "metadata": {},
   "source": [
    "Definimos o modelo Pythia usando a bilbioteca TransformerLens, que permite ter acesso às ativações internas de diversos modelos."
   ]
  },
  {
   "cell_type": "code",
   "execution_count": 2,
   "metadata": {},
   "outputs": [
    {
     "name": "stderr",
     "output_type": "stream",
     "text": [
      "/home/flfp/.local/lib/python3.10/site-packages/huggingface_hub/file_download.py:1132: FutureWarning: `resume_download` is deprecated and will be removed in version 1.0.0. Downloads always resume when possible. If you want to force a new download, use `force_download=True`.\n",
      "  warnings.warn(\n",
      "Using pad_token, but it is not set yet.\n"
     ]
    },
    {
     "name": "stdout",
     "output_type": "stream",
     "text": [
      "Loaded pretrained model EleutherAI/pythia-70m-deduped into HookedTransformer\n"
     ]
    }
   ],
   "source": [
    "model = HookedTransformer.from_pretrained(\"EleutherAI/pythia-70m-deduped\", device='cuda:0')"
   ]
  },
  {
   "cell_type": "markdown",
   "metadata": {},
   "source": [
    "Podemos então fazera inferência e visualizar todas as camadas acessíveis através da variável cache"
   ]
  },
  {
   "cell_type": "code",
   "execution_count": 3,
   "metadata": {},
   "outputs": [
    {
     "name": "stdout",
     "output_type": "stream",
     "text": [
      "tensor([[    0, 12092,    13,  1533, 45939, 18963,  4672,    13, 24387,    13,\n",
      "          1533, 45939, 18963,  4672, 24387,    13,  1533, 45939, 18963,  4672],\n",
      "        [    0, 12092,    13,     0,     0,     0,     0,     0,     0,     0,\n",
      "             0,     0,     0,     0,     0,     0,     0,     0,     0,     0]],\n",
      "       device='cuda:0')\n",
      "Cache keys: dict_keys(['hook_embed', 'blocks.0.hook_resid_pre', 'blocks.0.ln1.hook_scale', 'blocks.0.ln1.hook_normalized', 'blocks.0.attn.hook_q', 'blocks.0.attn.hook_k', 'blocks.0.attn.hook_v', 'blocks.0.attn.hook_rot_q', 'blocks.0.attn.hook_rot_k', 'blocks.0.attn.hook_attn_scores', 'blocks.0.attn.hook_pattern', 'blocks.0.attn.hook_z', 'blocks.0.hook_attn_out', 'blocks.0.ln2.hook_scale', 'blocks.0.ln2.hook_normalized', 'blocks.0.mlp.hook_pre', 'blocks.0.mlp.hook_post', 'blocks.0.hook_mlp_out', 'blocks.0.hook_resid_post', 'blocks.1.hook_resid_pre', 'blocks.1.ln1.hook_scale', 'blocks.1.ln1.hook_normalized', 'blocks.1.attn.hook_q', 'blocks.1.attn.hook_k', 'blocks.1.attn.hook_v', 'blocks.1.attn.hook_rot_q', 'blocks.1.attn.hook_rot_k', 'blocks.1.attn.hook_attn_scores', 'blocks.1.attn.hook_pattern', 'blocks.1.attn.hook_z', 'blocks.1.hook_attn_out', 'blocks.1.ln2.hook_scale', 'blocks.1.ln2.hook_normalized', 'blocks.1.mlp.hook_pre', 'blocks.1.mlp.hook_post', 'blocks.1.hook_mlp_out', 'blocks.1.hook_resid_post', 'blocks.2.hook_resid_pre', 'blocks.2.ln1.hook_scale', 'blocks.2.ln1.hook_normalized', 'blocks.2.attn.hook_q', 'blocks.2.attn.hook_k', 'blocks.2.attn.hook_v', 'blocks.2.attn.hook_rot_q', 'blocks.2.attn.hook_rot_k', 'blocks.2.attn.hook_attn_scores', 'blocks.2.attn.hook_pattern', 'blocks.2.attn.hook_z', 'blocks.2.hook_attn_out', 'blocks.2.ln2.hook_scale', 'blocks.2.ln2.hook_normalized', 'blocks.2.mlp.hook_pre', 'blocks.2.mlp.hook_post', 'blocks.2.hook_mlp_out', 'blocks.2.hook_resid_post', 'blocks.3.hook_resid_pre', 'blocks.3.ln1.hook_scale', 'blocks.3.ln1.hook_normalized', 'blocks.3.attn.hook_q', 'blocks.3.attn.hook_k', 'blocks.3.attn.hook_v', 'blocks.3.attn.hook_rot_q', 'blocks.3.attn.hook_rot_k', 'blocks.3.attn.hook_attn_scores', 'blocks.3.attn.hook_pattern', 'blocks.3.attn.hook_z', 'blocks.3.hook_attn_out', 'blocks.3.ln2.hook_scale', 'blocks.3.ln2.hook_normalized', 'blocks.3.mlp.hook_pre', 'blocks.3.mlp.hook_post', 'blocks.3.hook_mlp_out', 'blocks.3.hook_resid_post', 'blocks.4.hook_resid_pre', 'blocks.4.ln1.hook_scale', 'blocks.4.ln1.hook_normalized', 'blocks.4.attn.hook_q', 'blocks.4.attn.hook_k', 'blocks.4.attn.hook_v', 'blocks.4.attn.hook_rot_q', 'blocks.4.attn.hook_rot_k', 'blocks.4.attn.hook_attn_scores', 'blocks.4.attn.hook_pattern', 'blocks.4.attn.hook_z', 'blocks.4.hook_attn_out', 'blocks.4.ln2.hook_scale', 'blocks.4.ln2.hook_normalized', 'blocks.4.mlp.hook_pre', 'blocks.4.mlp.hook_post', 'blocks.4.hook_mlp_out', 'blocks.4.hook_resid_post', 'blocks.5.hook_resid_pre', 'blocks.5.ln1.hook_scale', 'blocks.5.ln1.hook_normalized', 'blocks.5.attn.hook_q', 'blocks.5.attn.hook_k', 'blocks.5.attn.hook_v', 'blocks.5.attn.hook_rot_q', 'blocks.5.attn.hook_rot_k', 'blocks.5.attn.hook_attn_scores', 'blocks.5.attn.hook_pattern', 'blocks.5.attn.hook_z', 'blocks.5.hook_attn_out', 'blocks.5.ln2.hook_scale', 'blocks.5.ln2.hook_normalized', 'blocks.5.mlp.hook_pre', 'blocks.5.mlp.hook_post', 'blocks.5.hook_mlp_out', 'blocks.5.hook_resid_post', 'ln_final.hook_scale', 'ln_final.hook_normalized'])\n"
     ]
    }
   ],
   "source": [
    "text = [\"Hello, world!!!!!!!!!!!!!!, Hello, world!!!!!!!!!!!!!! Hello, world!!!!!!!!!!!!!!\", \"Hello,\"]\n",
    "tokens = model.to_tokens(text)\n",
    "print(tokens)\n",
    "\n",
    "logits, cache = model.run_with_cache(tokens)\n",
    "\n",
    "print(\"Cache keys:\", cache.keys())"
   ]
  },
  {
   "cell_type": "markdown",
   "metadata": {},
   "source": [
    "Podemos utilizar a biblioteca datasets do HuggingFace para importar um dataset pronto. Neste caso utilizamos o wikitext por ter um domínio bem definido e ser pequeno o suficiente para rodarmos localmente."
   ]
  },
  {
   "cell_type": "code",
   "execution_count": 3,
   "metadata": {},
   "outputs": [
    {
     "name": "stderr",
     "output_type": "stream",
     "text": [
      "/home/flfp/.local/lib/python3.10/site-packages/datasets/load.py:1748: FutureWarning: 'ignore_verifications' was deprecated in favor of 'verification_mode' in version 2.9.1 and will be removed in 3.0.0.\n",
      "You can remove this warning by passing 'verification_mode=no_checks' instead.\n",
      "  warnings.warn(\n",
      "Found cached dataset parquet (/home/flfp/.cache/huggingface/datasets/Salesforce___parquet/wikitext-103-raw-v1-7bb180478b704b56/0.0.0/2a3b91fbd88a2c90d1dbbb32b460cf621d31bd5b05b934492fdef7d8d6f236ec)\n"
     ]
    }
   ],
   "source": [
    "dataset = datasets.load_dataset(\"Salesforce/wikitext\", split=\"train[:1801350]\", ignore_verifications=True)"
   ]
  },
  {
   "cell_type": "markdown",
   "metadata": {},
   "source": [
    "Podemos então gerar um dicionário com as ativações da residual stream de todas as camadas dessa forma:"
   ]
  },
  {
   "cell_type": "code",
   "execution_count": 4,
   "metadata": {},
   "outputs": [
    {
     "name": "stderr",
     "output_type": "stream",
     "text": [
      "  0%|          | 6/450338 [00:00<2:32:03, 49.36it/s]"
     ]
    },
    {
     "name": "stdout",
     "output_type": "stream",
     "text": [
      "torch.Size([4, 178, 512])\n",
      "torch.Size([4, 119, 512])\n",
      "torch.Size([4, 333, 512])\n",
      "torch.Size([4, 230, 512])\n",
      "torch.Size([4, 257, 512])\n",
      "torch.Size([4, 337, 512])\n",
      "torch.Size([4, 355, 512])\n",
      "torch.Size([4, 301, 512])\n",
      "torch.Size([4, 80, 512])\n"
     ]
    },
    {
     "name": "stderr",
     "output_type": "stream",
     "text": [
      "  0%|          | 17/450338 [00:00<2:28:20, 50.59it/s]"
     ]
    },
    {
     "name": "stdout",
     "output_type": "stream",
     "text": [
      "torch.Size([4, 164, 512])\n",
      "torch.Size([4, 84, 512])\n",
      "torch.Size([4, 277, 512])\n",
      "torch.Size([4, 230, 512])\n",
      "torch.Size([4, 114, 512])\n",
      "torch.Size([4, 239, 512])\n",
      "torch.Size([4, 303, 512])\n",
      "torch.Size([4, 196, 512])\n",
      "torch.Size([4, 82, 512])\n"
     ]
    },
    {
     "name": "stderr",
     "output_type": "stream",
     "text": [
      "  0%|          | 33/450338 [00:00<2:04:05, 60.48it/s]"
     ]
    },
    {
     "name": "stdout",
     "output_type": "stream",
     "text": [
      "torch.Size([4, 90, 512])\n",
      "torch.Size([4, 15, 512])\n",
      "torch.Size([4, 17, 512])\n",
      "torch.Size([4, 229, 512])\n",
      "torch.Size([4, 189, 512])\n",
      "torch.Size([4, 87, 512])\n",
      "torch.Size([4, 14, 512])\n",
      "torch.Size([4, 19, 512])\n",
      "torch.Size([4, 23, 512])\n",
      "torch.Size([4, 135, 512])\n",
      "torch.Size([4, 42, 512])\n",
      "torch.Size([4, 172, 512])\n",
      "torch.Size([4, 123, 512])\n",
      "torch.Size([4, 195, 512])\n",
      "torch.Size([4, 137, 512])\n",
      "torch.Size([4, 96, 512])\n",
      "torch.Size([4, 99, 512])\n",
      "torch.Size([4, 10, 512])\n",
      "torch.Size([4, 96, 512])\n"
     ]
    },
    {
     "name": "stderr",
     "output_type": "stream",
     "text": [
      "  0%|          | 50/450338 [00:00<1:46:08, 70.70it/s]"
     ]
    },
    {
     "name": "stdout",
     "output_type": "stream",
     "text": [
      "torch.Size([4, 94, 512])\n",
      "torch.Size([4, 104, 512])\n",
      "torch.Size([4, 99, 512])\n",
      "torch.Size([4, 210, 512])\n",
      "torch.Size([4, 156, 512])\n",
      "torch.Size([4, 99, 512])\n",
      "torch.Size([4, 73, 512])\n",
      "torch.Size([4, 96, 512])\n",
      "torch.Size([4, 252, 512])\n",
      "torch.Size([4, 273, 512])\n",
      "torch.Size([4, 7, 512])\n",
      "torch.Size([4, 15, 512])\n",
      "torch.Size([4, 18, 512])\n",
      "torch.Size([4, 20, 512])\n",
      "torch.Size([4, 14, 512])\n",
      "torch.Size([4, 24, 512])\n",
      "torch.Size([4, 15, 512])\n"
     ]
    },
    {
     "name": "stderr",
     "output_type": "stream",
     "text": [
      "  0%|          | 71/450338 [00:01<1:27:08, 86.12it/s]"
     ]
    },
    {
     "name": "stdout",
     "output_type": "stream",
     "text": [
      "torch.Size([4, 22, 512])\n",
      "torch.Size([4, 19, 512])\n",
      "torch.Size([4, 20, 512])\n",
      "torch.Size([4, 23, 512])\n",
      "torch.Size([4, 14, 512])\n",
      "torch.Size([4, 14, 512])\n",
      "torch.Size([4, 18, 512])\n",
      "torch.Size([4, 24, 512])\n",
      "torch.Size([4, 14, 512])\n",
      "torch.Size([4, 18, 512])\n",
      "torch.Size([4, 18, 512])\n",
      "torch.Size([4, 26, 512])\n",
      "torch.Size([4, 32, 512])\n",
      "torch.Size([4, 27, 512])\n",
      "torch.Size([4, 146, 512])\n",
      "torch.Size([4, 253, 512])\n",
      "torch.Size([4, 82, 512])\n",
      "torch.Size([4, 115, 512])\n",
      "torch.Size([4, 159, 512])\n",
      "torch.Size([4, 195, 512])\n"
     ]
    },
    {
     "name": "stderr",
     "output_type": "stream",
     "text": [
      "  0%|          | 80/450338 [00:01<1:31:42, 81.83it/s]"
     ]
    },
    {
     "name": "stdout",
     "output_type": "stream",
     "text": [
      "torch.Size([4, 155, 512])\n",
      "torch.Size([4, 210, 512])\n",
      "torch.Size([4, 137, 512])\n",
      "torch.Size([4, 151, 512])\n",
      "torch.Size([4, 158, 512])\n",
      "torch.Size([4, 126, 512])\n",
      "torch.Size([4, 92, 512])\n",
      "torch.Size([4, 252, 512])\n",
      "torch.Size([4, 11, 512])\n",
      "torch.Size([4, 440, 512])\n",
      "torch.Size([4, 379, 512])\n",
      "torch.Size([4, 380, 512])\n"
     ]
    },
    {
     "name": "stderr",
     "output_type": "stream",
     "text": [
      "  0%|          | 102/450338 [00:01<1:35:52, 78.26it/s]"
     ]
    },
    {
     "name": "stdout",
     "output_type": "stream",
     "text": [
      "torch.Size([4, 224, 512])\n",
      "torch.Size([4, 111, 512])\n",
      "torch.Size([4, 73, 512])\n",
      "torch.Size([4, 26, 512])\n",
      "torch.Size([4, 13, 512])\n",
      "torch.Size([4, 11, 512])\n",
      "torch.Size([4, 15, 512])\n",
      "torch.Size([4, 99, 512])\n",
      "torch.Size([4, 7, 512])\n",
      "torch.Size([4, 13, 512])\n",
      "torch.Size([4, 11, 512])\n",
      "torch.Size([4, 10, 512])\n",
      "torch.Size([4, 21, 512])\n",
      "torch.Size([4, 36, 512])\n",
      "torch.Size([4, 259, 512])\n",
      "torch.Size([4, 254, 512])\n",
      "torch.Size([4, 201, 512])\n",
      "torch.Size([4, 237, 512])\n"
     ]
    },
    {
     "name": "stderr",
     "output_type": "stream",
     "text": [
      "  0%|          | 111/450338 [00:01<1:54:07, 65.75it/s]"
     ]
    },
    {
     "name": "stdout",
     "output_type": "stream",
     "text": [
      "torch.Size([4, 395, 512])\n",
      "torch.Size([4, 312, 512])\n",
      "torch.Size([4, 268, 512])\n",
      "torch.Size([4, 237, 512])\n",
      "torch.Size([4, 189, 512])\n",
      "torch.Size([4, 276, 512])\n",
      "torch.Size([4, 131, 512])\n",
      "torch.Size([4, 235, 512])\n",
      "torch.Size([4, 165, 512])\n",
      "torch.Size([4, 21, 512])\n",
      "torch.Size([4, 19, 512])\n",
      "torch.Size([4, 8, 512])\n"
     ]
    },
    {
     "name": "stderr",
     "output_type": "stream",
     "text": [
      "  0%|          | 119/450338 [00:01<1:53:10, 66.30it/s]"
     ]
    },
    {
     "name": "stdout",
     "output_type": "stream",
     "text": [
      "torch.Size([4, 129, 512])\n",
      "torch.Size([4, 401, 512])\n",
      "torch.Size([4, 180, 512])\n",
      "torch.Size([4, 8, 512])\n",
      "torch.Size([4, 165, 512])\n",
      "torch.Size([4, 339, 512])\n",
      "torch.Size([4, 171, 512])\n",
      "torch.Size([4, 331, 512])\n",
      "torch.Size([4, 483, 512])\n",
      "torch.Size([4, 361, 512])\n"
     ]
    },
    {
     "name": "stderr",
     "output_type": "stream",
     "text": [
      "  0%|          | 134/450338 [00:02<2:07:58, 58.63it/s]"
     ]
    },
    {
     "name": "stdout",
     "output_type": "stream",
     "text": [
      "torch.Size([4, 228, 512])\n",
      "torch.Size([4, 170, 512])\n",
      "torch.Size([4, 210, 512])\n",
      "torch.Size([4, 168, 512])\n",
      "torch.Size([4, 168, 512])\n",
      "torch.Size([4, 256, 512])\n",
      "torch.Size([4, 173, 512])\n",
      "torch.Size([4, 224, 512])\n",
      "torch.Size([4, 252, 512])\n",
      "torch.Size([4, 133, 512])\n",
      "torch.Size([4, 205, 512])\n",
      "torch.Size([4, 10, 512])\n",
      "torch.Size([4, 7, 512])\n",
      "torch.Size([4, 151, 512])\n"
     ]
    },
    {
     "name": "stderr",
     "output_type": "stream",
     "text": [
      "  0%|          | 150/450338 [00:02<1:53:18, 66.21it/s]"
     ]
    },
    {
     "name": "stdout",
     "output_type": "stream",
     "text": [
      "torch.Size([4, 119, 512])\n",
      "torch.Size([4, 94, 512])\n",
      "torch.Size([4, 165, 512])\n",
      "torch.Size([4, 163, 512])\n",
      "torch.Size([4, 194, 512])\n",
      "torch.Size([4, 162, 512])\n",
      "torch.Size([4, 131, 512])\n",
      "torch.Size([4, 43, 512])\n",
      "torch.Size([4, 167, 512])\n",
      "torch.Size([4, 12, 512])\n",
      "torch.Size([4, 9, 512])\n",
      "torch.Size([4, 23, 512])\n",
      "torch.Size([4, 12, 512])\n",
      "torch.Size([4, 221, 512])\n",
      "torch.Size([4, 336, 512])\n",
      "torch.Size([4, 212, 512])\n"
     ]
    },
    {
     "name": "stderr",
     "output_type": "stream",
     "text": [
      "  0%|          | 166/450338 [00:02<1:55:01, 65.23it/s]"
     ]
    },
    {
     "name": "stdout",
     "output_type": "stream",
     "text": [
      "torch.Size([4, 340, 512])\n",
      "torch.Size([4, 122, 512])\n",
      "torch.Size([4, 149, 512])\n",
      "torch.Size([4, 213, 512])\n",
      "torch.Size([4, 154, 512])\n",
      "torch.Size([4, 190, 512])\n",
      "torch.Size([4, 166, 512])\n",
      "torch.Size([4, 148, 512])\n",
      "torch.Size([4, 323, 512])\n",
      "torch.Size([4, 215, 512])\n",
      "torch.Size([4, 223, 512])\n",
      "torch.Size([4, 273, 512])\n"
     ]
    },
    {
     "name": "stderr",
     "output_type": "stream",
     "text": [
      "  0%|          | 173/450338 [00:02<2:01:01, 62.00it/s]"
     ]
    },
    {
     "name": "stdout",
     "output_type": "stream",
     "text": [
      "torch.Size([4, 276, 512])\n",
      "torch.Size([4, 150, 512])\n",
      "torch.Size([4, 145, 512])\n",
      "torch.Size([4, 258, 512])\n",
      "torch.Size([4, 194, 512])\n",
      "torch.Size([4, 370, 512])\n",
      "torch.Size([4, 272, 512])\n",
      "torch.Size([4, 214, 512])\n",
      "torch.Size([4, 290, 512])\n",
      "torch.Size([4, 233, 512])\n"
     ]
    },
    {
     "name": "stderr",
     "output_type": "stream",
     "text": [
      "  0%|          | 187/450338 [00:02<2:10:41, 57.41it/s]"
     ]
    },
    {
     "name": "stdout",
     "output_type": "stream",
     "text": [
      "torch.Size([4, 197, 512])\n",
      "torch.Size([4, 179, 512])\n",
      "torch.Size([4, 179, 512])\n",
      "torch.Size([4, 185, 512])\n",
      "torch.Size([4, 77, 512])\n",
      "torch.Size([4, 311, 512])\n",
      "torch.Size([4, 113, 512])\n",
      "torch.Size([4, 314, 512])\n",
      "torch.Size([4, 284, 512])\n",
      "torch.Size([4, 109, 512])\n",
      "torch.Size([4, 100, 512])\n",
      "torch.Size([4, 262, 512])\n"
     ]
    },
    {
     "name": "stderr",
     "output_type": "stream",
     "text": [
      "  0%|          | 200/450338 [00:03<2:05:12, 59.92it/s]"
     ]
    },
    {
     "name": "stdout",
     "output_type": "stream",
     "text": [
      "torch.Size([4, 117, 512])\n",
      "torch.Size([4, 316, 512])\n",
      "torch.Size([4, 115, 512])\n",
      "torch.Size([4, 282, 512])\n",
      "torch.Size([4, 376, 512])\n",
      "torch.Size([4, 152, 512])\n",
      "torch.Size([4, 8, 512])\n",
      "torch.Size([4, 11, 512])\n",
      "torch.Size([4, 12, 512])\n",
      "torch.Size([4, 10, 512])\n",
      "torch.Size([4, 238, 512])\n",
      "torch.Size([4, 109, 512])\n",
      "torch.Size([4, 159, 512])\n",
      "torch.Size([4, 211, 512])\n"
     ]
    },
    {
     "name": "stderr",
     "output_type": "stream",
     "text": [
      "  0%|          | 215/450338 [00:03<2:01:44, 61.62it/s]"
     ]
    },
    {
     "name": "stdout",
     "output_type": "stream",
     "text": [
      "torch.Size([4, 87, 512])\n",
      "torch.Size([4, 234, 512])\n",
      "torch.Size([4, 313, 512])\n",
      "torch.Size([4, 189, 512])\n",
      "torch.Size([4, 136, 512])\n",
      "torch.Size([4, 217, 512])\n",
      "torch.Size([4, 135, 512])\n",
      "torch.Size([4, 157, 512])\n",
      "torch.Size([4, 222, 512])\n",
      "torch.Size([4, 265, 512])\n",
      "torch.Size([4, 131, 512])\n",
      "torch.Size([4, 173, 512])\n",
      "torch.Size([4, 125, 512])\n"
     ]
    },
    {
     "name": "stderr",
     "output_type": "stream",
     "text": [
      "  0%|          | 230/450338 [00:03<1:56:51, 64.20it/s]"
     ]
    },
    {
     "name": "stdout",
     "output_type": "stream",
     "text": [
      "torch.Size([4, 245, 512])\n",
      "torch.Size([4, 325, 512])\n",
      "torch.Size([4, 191, 512])\n",
      "torch.Size([4, 306, 512])\n",
      "torch.Size([4, 85, 512])\n",
      "torch.Size([4, 124, 512])\n",
      "torch.Size([4, 132, 512])\n",
      "torch.Size([4, 158, 512])\n",
      "torch.Size([4, 158, 512])\n",
      "torch.Size([4, 226, 512])\n",
      "torch.Size([4, 206, 512])\n",
      "torch.Size([4, 122, 512])\n",
      "torch.Size([4, 142, 512])\n"
     ]
    },
    {
     "name": "stderr",
     "output_type": "stream",
     "text": [
      "  0%|          | 237/450338 [00:03<2:06:05, 59.49it/s]"
     ]
    },
    {
     "name": "stdout",
     "output_type": "stream",
     "text": [
      "torch.Size([4, 249, 512])\n",
      "torch.Size([4, 117, 512])\n",
      "torch.Size([4, 191, 512])\n",
      "torch.Size([4, 359, 512])\n",
      "torch.Size([4, 179, 512])\n",
      "torch.Size([4, 385, 512])\n",
      "torch.Size([4, 211, 512])\n",
      "torch.Size([4, 253, 512])\n",
      "torch.Size([4, 182, 512])\n",
      "torch.Size([4, 145, 512])\n",
      "torch.Size([4, 183, 512])\n"
     ]
    },
    {
     "name": "stderr",
     "output_type": "stream",
     "text": [
      "  0%|          | 251/450338 [00:03<2:04:58, 60.02it/s]"
     ]
    },
    {
     "name": "stdout",
     "output_type": "stream",
     "text": [
      "torch.Size([4, 212, 512])\n",
      "torch.Size([4, 46, 512])\n",
      "torch.Size([4, 272, 512])\n",
      "torch.Size([4, 128, 512])\n",
      "torch.Size([4, 80, 512])\n",
      "torch.Size([4, 160, 512])\n",
      "torch.Size([4, 158, 512])\n",
      "torch.Size([4, 361, 512])\n",
      "torch.Size([4, 135, 512])\n",
      "torch.Size([4, 72, 512])\n",
      "torch.Size([4, 202, 512])\n",
      "torch.Size([4, 330, 512])\n",
      "torch.Size([4, 235, 512])\n"
     ]
    },
    {
     "name": "stderr",
     "output_type": "stream",
     "text": [
      "  0%|          | 267/450338 [00:04<1:54:04, 65.76it/s]"
     ]
    },
    {
     "name": "stdout",
     "output_type": "stream",
     "text": [
      "torch.Size([4, 159, 512])\n",
      "torch.Size([4, 293, 512])\n",
      "torch.Size([4, 151, 512])\n",
      "torch.Size([4, 304, 512])\n",
      "torch.Size([4, 66, 512])\n",
      "torch.Size([4, 14, 512])\n",
      "torch.Size([4, 169, 512])\n",
      "torch.Size([4, 84, 512])\n",
      "torch.Size([4, 108, 512])\n",
      "torch.Size([4, 41, 512])\n",
      "torch.Size([4, 38, 512])\n",
      "torch.Size([4, 82, 512])\n",
      "torch.Size([4, 108, 512])\n",
      "torch.Size([4, 78, 512])\n",
      "torch.Size([4, 60, 512])\n",
      "torch.Size([4, 95, 512])\n",
      "torch.Size([4, 102, 512])\n"
     ]
    },
    {
     "name": "stderr",
     "output_type": "stream",
     "text": [
      "  0%|          | 285/450338 [00:04<1:44:08, 72.02it/s]"
     ]
    },
    {
     "name": "stdout",
     "output_type": "stream",
     "text": [
      "torch.Size([4, 46, 512])\n",
      "torch.Size([4, 61, 512])\n",
      "torch.Size([4, 164, 512])\n",
      "torch.Size([4, 146, 512])\n",
      "torch.Size([4, 140, 512])\n",
      "torch.Size([4, 60, 512])\n",
      "torch.Size([4, 132, 512])\n",
      "torch.Size([4, 93, 512])\n",
      "torch.Size([4, 127, 512])\n",
      "torch.Size([4, 309, 512])\n",
      "torch.Size([4, 289, 512])\n",
      "torch.Size([4, 105, 512])\n",
      "torch.Size([4, 167, 512])\n",
      "torch.Size([4, 179, 512])\n",
      "torch.Size([4, 49, 512])\n",
      "torch.Size([4, 47, 512])\n"
     ]
    },
    {
     "name": "stderr",
     "output_type": "stream",
     "text": [
      "  0%|          | 294/450338 [00:04<1:41:37, 73.80it/s]"
     ]
    },
    {
     "name": "stdout",
     "output_type": "stream",
     "text": [
      "torch.Size([4, 38, 512])\n",
      "torch.Size([4, 220, 512])\n",
      "torch.Size([4, 130, 512])\n",
      "torch.Size([4, 202, 512])\n",
      "torch.Size([4, 48, 512])\n",
      "torch.Size([4, 192, 512])\n",
      "torch.Size([4, 90, 512])\n",
      "torch.Size([4, 256, 512])\n",
      "torch.Size([4, 8, 512])\n",
      "torch.Size([4, 343, 512])\n",
      "torch.Size([4, 244, 512])\n",
      "torch.Size([4, 112, 512])\n",
      "torch.Size([4, 438, 512])\n"
     ]
    },
    {
     "name": "stderr",
     "output_type": "stream",
     "text": [
      "  0%|          | 309/450338 [00:04<1:52:58, 66.39it/s]"
     ]
    },
    {
     "name": "stdout",
     "output_type": "stream",
     "text": [
      "torch.Size([4, 65, 512])\n",
      "torch.Size([4, 188, 512])\n",
      "torch.Size([4, 174, 512])\n",
      "torch.Size([4, 254, 512])\n",
      "torch.Size([4, 134, 512])\n",
      "torch.Size([4, 115, 512])\n",
      "torch.Size([4, 161, 512])\n",
      "torch.Size([4, 215, 512])\n",
      "torch.Size([4, 264, 512])\n",
      "torch.Size([4, 44, 512])\n",
      "torch.Size([4, 143, 512])\n",
      "torch.Size([4, 201, 512])\n",
      "torch.Size([4, 135, 512])\n",
      "torch.Size([4, 249, 512])\n"
     ]
    },
    {
     "name": "stderr",
     "output_type": "stream",
     "text": [
      "  0%|          | 323/450338 [00:05<2:14:49, 55.63it/s]"
     ]
    },
    {
     "name": "stdout",
     "output_type": "stream",
     "text": [
      "torch.Size([4, 503, 512])\n",
      "torch.Size([4, 307, 512])\n",
      "torch.Size([4, 429, 512])\n",
      "torch.Size([4, 392, 512])\n",
      "torch.Size([4, 7, 512])\n",
      "torch.Size([4, 234, 512])\n",
      "torch.Size([4, 141, 512])\n",
      "torch.Size([4, 145, 512])\n",
      "torch.Size([4, 7, 512])\n",
      "torch.Size([4, 192, 512])\n",
      "torch.Size([4, 222, 512])\n"
     ]
    },
    {
     "name": "stderr",
     "output_type": "stream",
     "text": [
      "  0%|          | 330/450338 [00:05<2:09:37, 57.86it/s]"
     ]
    },
    {
     "name": "stdout",
     "output_type": "stream",
     "text": [
      "torch.Size([4, 181, 512])\n",
      "torch.Size([4, 336, 512])\n",
      "torch.Size([4, 134, 512])\n",
      "torch.Size([4, 132, 512])\n",
      "torch.Size([4, 187, 512])\n",
      "torch.Size([4, 112, 512])\n",
      "torch.Size([4, 256, 512])\n",
      "torch.Size([4, 133, 512])\n",
      "torch.Size([4, 57, 512])\n",
      "torch.Size([4, 67, 512])\n"
     ]
    },
    {
     "name": "stderr",
     "output_type": "stream",
     "text": [
      "  0%|          | 344/450338 [00:05<2:09:16, 58.02it/s]"
     ]
    },
    {
     "name": "stdout",
     "output_type": "stream",
     "text": [
      "torch.Size([4, 651, 512])\n",
      "torch.Size([4, 184, 512])\n",
      "torch.Size([4, 107, 512])\n",
      "torch.Size([4, 46, 512])\n",
      "torch.Size([4, 114, 512])\n",
      "torch.Size([4, 121, 512])\n",
      "torch.Size([4, 9, 512])\n",
      "torch.Size([4, 9, 512])\n",
      "torch.Size([4, 10, 512])\n",
      "torch.Size([4, 9, 512])\n",
      "torch.Size([4, 198, 512])\n",
      "torch.Size([4, 146, 512])\n",
      "torch.Size([4, 104, 512])\n",
      "torch.Size([4, 186, 512])\n",
      "torch.Size([4, 173, 512])\n",
      "torch.Size([4, 130, 512])\n",
      "torch.Size([4, 83, 512])\n"
     ]
    },
    {
     "name": "stderr",
     "output_type": "stream",
     "text": [
      "  0%|          | 360/450338 [00:05<1:55:24, 64.99it/s]"
     ]
    },
    {
     "name": "stdout",
     "output_type": "stream",
     "text": [
      "torch.Size([4, 196, 512])\n",
      "torch.Size([4, 81, 512])\n",
      "torch.Size([4, 215, 512])\n",
      "torch.Size([4, 189, 512])\n",
      "torch.Size([4, 198, 512])\n",
      "torch.Size([4, 247, 512])\n",
      "torch.Size([4, 48, 512])\n",
      "torch.Size([4, 263, 512])\n",
      "torch.Size([4, 407, 512])\n",
      "torch.Size([4, 421, 512])\n"
     ]
    },
    {
     "name": "stderr",
     "output_type": "stream",
     "text": [
      "  0%|          | 367/450338 [00:05<2:20:32, 53.36it/s]"
     ]
    },
    {
     "name": "stdout",
     "output_type": "stream",
     "text": [
      "torch.Size([4, 374, 512])\n",
      "torch.Size([4, 338, 512])\n",
      "torch.Size([4, 259, 512])\n",
      "torch.Size([4, 105, 512])\n",
      "torch.Size([4, 281, 512])\n",
      "torch.Size([4, 388, 512])\n"
     ]
    },
    {
     "name": "stderr",
     "output_type": "stream",
     "text": [
      "  0%|          | 380/450338 [00:06<2:31:33, 49.48it/s]"
     ]
    },
    {
     "name": "stdout",
     "output_type": "stream",
     "text": [
      "torch.Size([4, 198, 512])\n",
      "torch.Size([4, 101, 512])\n",
      "torch.Size([4, 214, 512])\n",
      "torch.Size([4, 73, 512])\n",
      "torch.Size([4, 161, 512])\n",
      "torch.Size([4, 108, 512])\n",
      "torch.Size([4, 190, 512])\n",
      "torch.Size([4, 222, 512])\n",
      "torch.Size([4, 243, 512])\n",
      "torch.Size([4, 245, 512])\n",
      "torch.Size([4, 231, 512])\n",
      "torch.Size([4, 294, 512])\n",
      "torch.Size([4, 190, 512])\n"
     ]
    },
    {
     "name": "stderr",
     "output_type": "stream",
     "text": [
      "  0%|          | 396/450338 [00:06<2:04:24, 60.28it/s]"
     ]
    },
    {
     "name": "stdout",
     "output_type": "stream",
     "text": [
      "torch.Size([4, 155, 512])\n",
      "torch.Size([4, 106, 512])\n",
      "torch.Size([4, 120, 512])\n",
      "torch.Size([4, 168, 512])\n",
      "torch.Size([4, 178, 512])\n",
      "torch.Size([4, 205, 512])\n",
      "torch.Size([4, 93, 512])\n",
      "torch.Size([4, 45, 512])\n",
      "torch.Size([4, 9, 512])\n",
      "torch.Size([4, 159, 512])\n",
      "torch.Size([4, 182, 512])\n",
      "torch.Size([4, 141, 512])\n",
      "torch.Size([4, 46, 512])\n",
      "torch.Size([4, 252, 512])\n",
      "torch.Size([4, 8, 512])\n",
      "torch.Size([4, 88, 512])\n",
      "torch.Size([4, 137, 512])\n"
     ]
    },
    {
     "name": "stderr",
     "output_type": "stream",
     "text": [
      "  0%|          | 406/450338 [00:06<1:48:11, 69.32it/s]"
     ]
    },
    {
     "name": "stdout",
     "output_type": "stream",
     "text": [
      "torch.Size([4, 112, 512])\n",
      "torch.Size([4, 97, 512])\n",
      "torch.Size([4, 43, 512])\n",
      "torch.Size([4, 118, 512])\n",
      "torch.Size([4, 181, 512])\n",
      "torch.Size([4, 90, 512])\n",
      "torch.Size([4, 11, 512])\n",
      "torch.Size([4, 148, 512])\n",
      "torch.Size([4, 152, 512])\n",
      "torch.Size([4, 143, 512])\n",
      "torch.Size([4, 289, 512])\n",
      "torch.Size([4, 292, 512])\n",
      "torch.Size([4, 54, 512])\n",
      "torch.Size([4, 380, 512])\n"
     ]
    },
    {
     "name": "stderr",
     "output_type": "stream",
     "text": [
      "  0%|          | 422/450338 [00:06<1:50:55, 67.60it/s]"
     ]
    },
    {
     "name": "stdout",
     "output_type": "stream",
     "text": [
      "torch.Size([4, 128, 512])\n",
      "torch.Size([4, 159, 512])\n",
      "torch.Size([4, 124, 512])\n",
      "torch.Size([4, 124, 512])\n",
      "torch.Size([4, 172, 512])\n",
      "torch.Size([4, 110, 512])\n",
      "torch.Size([4, 83, 512])\n",
      "torch.Size([4, 248, 512])\n",
      "torch.Size([4, 218, 512])\n",
      "torch.Size([4, 301, 512])\n",
      "torch.Size([4, 9, 512])\n",
      "torch.Size([4, 220, 512])\n",
      "torch.Size([4, 216, 512])\n",
      "torch.Size([4, 210, 512])\n"
     ]
    },
    {
     "name": "stderr",
     "output_type": "stream",
     "text": [
      "  0%|          | 436/450338 [00:06<1:55:11, 65.10it/s]"
     ]
    },
    {
     "name": "stdout",
     "output_type": "stream",
     "text": [
      "torch.Size([4, 247, 512])\n",
      "torch.Size([4, 6, 512])\n",
      "torch.Size([4, 253, 512])\n",
      "torch.Size([4, 59, 512])\n",
      "torch.Size([4, 77, 512])\n",
      "torch.Size([4, 127, 512])\n",
      "torch.Size([4, 374, 512])\n",
      "torch.Size([4, 16, 512])\n",
      "torch.Size([4, 212, 512])\n",
      "torch.Size([4, 155, 512])\n",
      "torch.Size([4, 164, 512])\n",
      "torch.Size([4, 328, 512])\n",
      "torch.Size([4, 239, 512])\n"
     ]
    },
    {
     "name": "stderr",
     "output_type": "stream",
     "text": [
      "  0%|          | 450/450338 [00:07<2:10:17, 57.55it/s]"
     ]
    },
    {
     "name": "stdout",
     "output_type": "stream",
     "text": [
      "torch.Size([4, 201, 512])\n",
      "torch.Size([4, 175, 512])\n",
      "torch.Size([4, 108, 512])\n",
      "torch.Size([4, 248, 512])\n",
      "torch.Size([4, 247, 512])\n",
      "torch.Size([4, 398, 512])\n",
      "torch.Size([4, 195, 512])\n",
      "torch.Size([4, 329, 512])\n",
      "torch.Size([4, 221, 512])\n",
      "torch.Size([4, 115, 512])\n",
      "torch.Size([4, 153, 512])\n"
     ]
    },
    {
     "name": "stderr",
     "output_type": "stream",
     "text": [
      "  0%|          | 464/450338 [00:07<2:00:36, 62.16it/s]"
     ]
    },
    {
     "name": "stdout",
     "output_type": "stream",
     "text": [
      "torch.Size([4, 141, 512])\n",
      "torch.Size([4, 138, 512])\n",
      "torch.Size([4, 277, 512])\n",
      "torch.Size([4, 256, 512])\n",
      "torch.Size([4, 10, 512])\n",
      "torch.Size([4, 10, 512])\n",
      "torch.Size([4, 236, 512])\n",
      "torch.Size([4, 185, 512])\n",
      "torch.Size([4, 235, 512])\n",
      "torch.Size([4, 173, 512])\n",
      "torch.Size([4, 108, 512])\n",
      "torch.Size([4, 162, 512])\n",
      "torch.Size([4, 157, 512])\n",
      "torch.Size([4, 9, 512])\n",
      "torch.Size([4, 100, 512])\n"
     ]
    },
    {
     "name": "stderr",
     "output_type": "stream",
     "text": [
      "  0%|          | 472/450338 [00:07<1:59:29, 62.75it/s]"
     ]
    },
    {
     "name": "stdout",
     "output_type": "stream",
     "text": [
      "torch.Size([4, 92, 512])\n",
      "torch.Size([4, 229, 512])\n",
      "torch.Size([4, 10, 512])\n",
      "torch.Size([4, 170, 512])\n",
      "torch.Size([4, 296, 512])\n",
      "torch.Size([4, 327, 512])\n",
      "torch.Size([4, 153, 512])\n",
      "torch.Size([4, 424, 512])\n",
      "torch.Size([4, 288, 512])\n",
      "torch.Size([4, 127, 512])\n",
      "torch.Size([4, 343, 512])\n"
     ]
    },
    {
     "name": "stderr",
     "output_type": "stream",
     "text": [
      "  0%|          | 485/450338 [00:07<2:25:13, 51.63it/s]"
     ]
    },
    {
     "name": "stdout",
     "output_type": "stream",
     "text": [
      "torch.Size([4, 61, 512])\n",
      "torch.Size([4, 241, 512])\n",
      "torch.Size([4, 285, 512])\n",
      "torch.Size([4, 8, 512])\n",
      "torch.Size([4, 245, 512])\n",
      "torch.Size([4, 426, 512])\n",
      "torch.Size([4, 226, 512])\n",
      "torch.Size([4, 494, 512])\n",
      "torch.Size([4, 291, 512])\n"
     ]
    },
    {
     "name": "stderr",
     "output_type": "stream",
     "text": [
      "  0%|          | 491/450338 [00:07<2:26:08, 51.31it/s]"
     ]
    },
    {
     "name": "stdout",
     "output_type": "stream",
     "text": [
      "torch.Size([4, 353, 512])\n",
      "torch.Size([4, 156, 512])\n",
      "torch.Size([4, 262, 512])\n",
      "torch.Size([4, 148, 512])\n",
      "torch.Size([4, 185, 512])\n",
      "torch.Size([4, 72, 512])\n",
      "torch.Size([4, 142, 512])\n",
      "torch.Size([4, 109, 512])\n",
      "torch.Size([4, 191, 512])\n",
      "torch.Size([4, 191, 512])\n",
      "torch.Size([4, 162, 512])\n",
      "torch.Size([4, 8, 512])\n",
      "torch.Size([4, 168, 512])\n"
     ]
    },
    {
     "name": "stderr",
     "output_type": "stream",
     "text": [
      "  0%|          | 505/450338 [00:08<2:17:27, 54.54it/s]"
     ]
    },
    {
     "name": "stdout",
     "output_type": "stream",
     "text": [
      "torch.Size([4, 156, 512])\n",
      "torch.Size([4, 224, 512])\n",
      "torch.Size([4, 211, 512])\n",
      "torch.Size([4, 288, 512])\n",
      "torch.Size([4, 340, 512])\n",
      "torch.Size([4, 312, 512])\n",
      "torch.Size([4, 151, 512])\n",
      "torch.Size([4, 172, 512])\n",
      "torch.Size([4, 227, 512])\n",
      "torch.Size([4, 144, 512])\n",
      "torch.Size([4, 222, 512])\n",
      "torch.Size([4, 9, 512])\n"
     ]
    },
    {
     "name": "stderr",
     "output_type": "stream",
     "text": [
      "  0%|          | 519/450338 [00:08<2:04:00, 60.46it/s]"
     ]
    },
    {
     "name": "stdout",
     "output_type": "stream",
     "text": [
      "torch.Size([4, 194, 512])\n",
      "torch.Size([4, 128, 512])\n",
      "torch.Size([4, 7, 512])\n",
      "torch.Size([4, 258, 512])\n",
      "torch.Size([4, 127, 512])\n",
      "torch.Size([4, 216, 512])\n",
      "torch.Size([4, 163, 512])\n",
      "torch.Size([4, 216, 512])\n",
      "torch.Size([4, 238, 512])\n",
      "torch.Size([4, 293, 512])\n",
      "torch.Size([4, 147, 512])\n",
      "torch.Size([4, 10, 512])\n",
      "torch.Size([4, 151, 512])\n"
     ]
    },
    {
     "name": "stderr",
     "output_type": "stream",
     "text": [
      "  0%|          | 533/450338 [00:08<2:11:28, 57.02it/s]"
     ]
    },
    {
     "name": "stdout",
     "output_type": "stream",
     "text": [
      "torch.Size([4, 174, 512])\n",
      "torch.Size([4, 165, 512])\n",
      "torch.Size([4, 155, 512])\n",
      "torch.Size([4, 254, 512])\n",
      "torch.Size([4, 211, 512])\n",
      "torch.Size([4, 12, 512])\n",
      "torch.Size([4, 346, 512])\n",
      "torch.Size([4, 351, 512])\n",
      "torch.Size([4, 236, 512])\n",
      "torch.Size([4, 211, 512])\n",
      "torch.Size([4, 14, 512])\n",
      "torch.Size([4, 145, 512])\n"
     ]
    },
    {
     "name": "stderr",
     "output_type": "stream",
     "text": [
      "  0%|          | 545/450338 [00:08<2:09:04, 58.08it/s]"
     ]
    },
    {
     "name": "stdout",
     "output_type": "stream",
     "text": [
      "torch.Size([4, 289, 512])\n",
      "torch.Size([4, 255, 512])\n",
      "torch.Size([4, 232, 512])\n",
      "torch.Size([4, 52, 512])\n",
      "torch.Size([4, 210, 512])\n",
      "torch.Size([4, 173, 512])\n",
      "torch.Size([4, 256, 512])\n",
      "torch.Size([4, 276, 512])\n",
      "torch.Size([4, 162, 512])\n",
      "torch.Size([4, 200, 512])\n",
      "torch.Size([4, 60, 512])\n",
      "torch.Size([4, 9, 512])\n",
      "torch.Size([4, 101, 512])\n"
     ]
    },
    {
     "name": "stderr",
     "output_type": "stream",
     "text": [
      "  0%|          | 564/450338 [00:09<1:39:15, 75.52it/s]"
     ]
    },
    {
     "name": "stdout",
     "output_type": "stream",
     "text": [
      "torch.Size([4, 48, 512])\n",
      "torch.Size([4, 44, 512])\n",
      "torch.Size([4, 194, 512])\n",
      "torch.Size([4, 149, 512])\n",
      "torch.Size([4, 145, 512])\n",
      "torch.Size([4, 214, 512])\n",
      "torch.Size([4, 192, 512])\n",
      "torch.Size([4, 135, 512])\n",
      "torch.Size([4, 126, 512])\n",
      "torch.Size([4, 11, 512])\n",
      "torch.Size([4, 10, 512])\n",
      "torch.Size([4, 11, 512])\n",
      "torch.Size([4, 10, 512])\n",
      "torch.Size([4, 11, 512])\n",
      "torch.Size([4, 14, 512])\n",
      "torch.Size([4, 10, 512])\n",
      "torch.Size([4, 26, 512])\n",
      "torch.Size([4, 14, 512])\n",
      "torch.Size([4, 13, 512])\n",
      "torch.Size([4, 8, 512])\n"
     ]
    },
    {
     "name": "stderr",
     "output_type": "stream",
     "text": [
      "  0%|          | 573/450338 [00:09<1:39:20, 75.46it/s]"
     ]
    },
    {
     "name": "stdout",
     "output_type": "stream",
     "text": [
      "torch.Size([4, 235, 512])\n",
      "torch.Size([4, 241, 512])\n",
      "torch.Size([4, 241, 512])\n",
      "torch.Size([4, 249, 512])\n",
      "torch.Size([4, 261, 512])\n",
      "torch.Size([4, 160, 512])\n",
      "torch.Size([4, 341, 512])\n",
      "torch.Size([4, 358, 512])\n",
      "torch.Size([4, 328, 512])\n"
     ]
    },
    {
     "name": "stderr",
     "output_type": "stream",
     "text": [
      "  0%|          | 581/450338 [00:09<2:14:53, 55.57it/s]"
     ]
    },
    {
     "name": "stdout",
     "output_type": "stream",
     "text": [
      "torch.Size([4, 336, 512])\n",
      "torch.Size([4, 348, 512])\n",
      "torch.Size([4, 613, 512])\n",
      "torch.Size([4, 474, 512])\n",
      "torch.Size([4, 26, 512])\n",
      "torch.Size([4, 31, 512])\n",
      "torch.Size([4, 13, 512])\n",
      "torch.Size([4, 8, 512])\n",
      "torch.Size([4, 8, 512])\n",
      "torch.Size([4, 10, 512])\n",
      "torch.Size([4, 150, 512])\n"
     ]
    },
    {
     "name": "stderr",
     "output_type": "stream",
     "text": [
      "  0%|          | 596/450338 [00:09<2:05:17, 59.83it/s]"
     ]
    },
    {
     "name": "stdout",
     "output_type": "stream",
     "text": [
      "torch.Size([4, 311, 512])\n",
      "torch.Size([4, 7, 512])\n",
      "torch.Size([4, 196, 512])\n",
      "torch.Size([4, 161, 512])\n",
      "torch.Size([4, 225, 512])\n",
      "torch.Size([4, 302, 512])\n",
      "torch.Size([4, 7, 512])\n",
      "torch.Size([4, 192, 512])\n",
      "torch.Size([4, 161, 512])\n",
      "torch.Size([4, 142, 512])\n",
      "torch.Size([4, 22, 512])\n",
      "torch.Size([4, 25, 512])\n",
      "torch.Size([4, 20, 512])\n",
      "torch.Size([4, 29, 512])\n",
      "torch.Size([4, 27, 512])\n"
     ]
    },
    {
     "name": "stderr",
     "output_type": "stream",
     "text": [
      "  0%|          | 614/450338 [00:09<1:57:03, 64.03it/s]"
     ]
    },
    {
     "name": "stdout",
     "output_type": "stream",
     "text": [
      "torch.Size([4, 7, 512])\n",
      "torch.Size([4, 214, 512])\n",
      "torch.Size([4, 196, 512])\n",
      "torch.Size([4, 295, 512])\n",
      "torch.Size([4, 209, 512])\n",
      "torch.Size([4, 239, 512])\n",
      "torch.Size([4, 52, 512])\n",
      "torch.Size([4, 317, 512])\n",
      "torch.Size([4, 117, 512])\n",
      "torch.Size([4, 236, 512])\n",
      "torch.Size([4, 10, 512])\n",
      "torch.Size([4, 267, 512])\n"
     ]
    },
    {
     "name": "stderr",
     "output_type": "stream",
     "text": [
      "  0%|          | 629/450338 [00:10<1:54:11, 65.64it/s]"
     ]
    },
    {
     "name": "stdout",
     "output_type": "stream",
     "text": [
      "torch.Size([4, 199, 512])\n",
      "torch.Size([4, 251, 512])\n",
      "torch.Size([4, 123, 512])\n",
      "torch.Size([4, 276, 512])\n",
      "torch.Size([4, 270, 512])\n",
      "torch.Size([4, 138, 512])\n",
      "torch.Size([4, 105, 512])\n",
      "torch.Size([4, 211, 512])\n",
      "torch.Size([4, 115, 512])\n",
      "torch.Size([4, 7, 512])\n",
      "torch.Size([4, 157, 512])\n",
      "torch.Size([4, 166, 512])\n",
      "torch.Size([4, 116, 512])\n",
      "torch.Size([4, 180, 512])\n"
     ]
    },
    {
     "name": "stderr",
     "output_type": "stream",
     "text": [
      "  0%|          | 648/450338 [00:10<1:37:03, 77.22it/s]"
     ]
    },
    {
     "name": "stdout",
     "output_type": "stream",
     "text": [
      "torch.Size([4, 133, 512])\n",
      "torch.Size([4, 144, 512])\n",
      "torch.Size([4, 105, 512])\n",
      "torch.Size([4, 105, 512])\n",
      "torch.Size([4, 95, 512])\n",
      "torch.Size([4, 78, 512])\n",
      "torch.Size([4, 8, 512])\n",
      "torch.Size([4, 8, 512])\n",
      "torch.Size([4, 12, 512])\n",
      "torch.Size([4, 12, 512])\n",
      "torch.Size([4, 187, 512])\n",
      "torch.Size([4, 94, 512])\n",
      "torch.Size([4, 169, 512])\n",
      "torch.Size([4, 46, 512])\n",
      "torch.Size([4, 155, 512])\n",
      "torch.Size([4, 216, 512])\n",
      "torch.Size([4, 93, 512])\n",
      "torch.Size([4, 69, 512])\n",
      "torch.Size([4, 104, 512])\n"
     ]
    },
    {
     "name": "stderr",
     "output_type": "stream",
     "text": [
      "  0%|          | 656/450338 [00:10<1:46:41, 70.25it/s]"
     ]
    },
    {
     "name": "stdout",
     "output_type": "stream",
     "text": [
      "torch.Size([4, 207, 512])\n",
      "torch.Size([4, 132, 512])\n",
      "torch.Size([4, 17, 512])\n",
      "torch.Size([4, 81, 512])\n",
      "torch.Size([4, 208, 512])\n",
      "torch.Size([4, 181, 512])\n",
      "torch.Size([4, 223, 512])\n",
      "torch.Size([4, 109, 512])\n",
      "torch.Size([4, 72, 512])\n",
      "torch.Size([4, 135, 512])\n",
      "torch.Size([4, 125, 512])\n",
      "torch.Size([4, 185, 512])\n",
      "torch.Size([4, 123, 512])\n",
      "torch.Size([4, 179, 512])\n"
     ]
    },
    {
     "name": "stderr",
     "output_type": "stream",
     "text": [
      "  0%|          | 673/450338 [00:10<1:50:07, 68.05it/s]"
     ]
    },
    {
     "name": "stdout",
     "output_type": "stream",
     "text": [
      "torch.Size([4, 113, 512])\n",
      "torch.Size([4, 303, 512])\n",
      "torch.Size([4, 124, 512])\n",
      "torch.Size([4, 19, 512])\n",
      "torch.Size([4, 118, 512])\n",
      "torch.Size([4, 145, 512])\n",
      "torch.Size([4, 221, 512])\n",
      "torch.Size([4, 378, 512])\n",
      "torch.Size([4, 195, 512])\n",
      "torch.Size([4, 254, 512])\n",
      "torch.Size([4, 168, 512])\n",
      "torch.Size([4, 176, 512])\n"
     ]
    },
    {
     "name": "stderr",
     "output_type": "stream",
     "text": [
      "  0%|          | 686/450338 [00:11<2:13:02, 56.33it/s]"
     ]
    },
    {
     "name": "stdout",
     "output_type": "stream",
     "text": [
      "torch.Size([4, 206, 512])\n",
      "torch.Size([4, 160, 512])\n",
      "torch.Size([4, 157, 512])\n",
      "torch.Size([4, 254, 512])\n",
      "torch.Size([4, 149, 512])\n",
      "torch.Size([4, 211, 512])\n",
      "torch.Size([4, 183, 512])\n",
      "torch.Size([4, 176, 512])\n",
      "torch.Size([4, 305, 512])\n",
      "torch.Size([4, 148, 512])\n",
      "torch.Size([4, 160, 512])\n",
      "torch.Size([4, 264, 512])\n"
     ]
    },
    {
     "name": "stderr",
     "output_type": "stream",
     "text": [
      "  0%|          | 692/450338 [00:11<2:25:05, 51.65it/s]"
     ]
    },
    {
     "name": "stdout",
     "output_type": "stream",
     "text": [
      "torch.Size([4, 299, 512])\n",
      "torch.Size([4, 248, 512])\n",
      "torch.Size([4, 260, 512])\n",
      "torch.Size([4, 344, 512])\n",
      "torch.Size([4, 266, 512])\n",
      "torch.Size([4, 282, 512])\n",
      "torch.Size([4, 268, 512])\n",
      "torch.Size([4, 245, 512])\n",
      "torch.Size([4, 183, 512])\n"
     ]
    },
    {
     "name": "stderr",
     "output_type": "stream",
     "text": [
      "  0%|          | 707/450338 [00:11<2:05:42, 59.61it/s]"
     ]
    },
    {
     "name": "stdout",
     "output_type": "stream",
     "text": [
      "torch.Size([4, 226, 512])\n",
      "torch.Size([4, 236, 512])\n",
      "torch.Size([4, 281, 512])\n",
      "torch.Size([4, 331, 512])\n",
      "torch.Size([4, 10, 512])\n",
      "torch.Size([4, 9, 512])\n",
      "torch.Size([4, 9, 512])\n",
      "torch.Size([4, 12, 512])\n",
      "torch.Size([4, 8, 512])\n",
      "torch.Size([4, 8, 512])\n",
      "torch.Size([4, 131, 512])\n",
      "torch.Size([4, 103, 512])\n",
      "torch.Size([4, 217, 512])\n",
      "torch.Size([4, 9, 512])\n",
      "torch.Size([4, 282, 512])\n"
     ]
    },
    {
     "name": "stderr",
     "output_type": "stream",
     "text": [
      "  0%|          | 721/450338 [00:11<2:12:18, 56.64it/s]"
     ]
    },
    {
     "name": "stdout",
     "output_type": "stream",
     "text": [
      "torch.Size([4, 223, 512])\n",
      "torch.Size([4, 231, 512])\n",
      "torch.Size([4, 231, 512])\n",
      "torch.Size([4, 306, 512])\n",
      "torch.Size([4, 275, 512])\n",
      "torch.Size([4, 155, 512])\n",
      "torch.Size([4, 244, 512])\n",
      "torch.Size([4, 183, 512])\n",
      "torch.Size([4, 266, 512])\n",
      "torch.Size([4, 218, 512])\n",
      "torch.Size([4, 154, 512])\n"
     ]
    },
    {
     "name": "stderr",
     "output_type": "stream",
     "text": [
      "  0%|          | 742/450338 [00:11<1:38:10, 76.32it/s]"
     ]
    },
    {
     "name": "stdout",
     "output_type": "stream",
     "text": [
      "torch.Size([4, 18, 512])\n",
      "torch.Size([4, 13, 512])\n",
      "torch.Size([4, 10, 512])\n",
      "torch.Size([4, 11, 512])\n",
      "torch.Size([4, 17, 512])\n",
      "torch.Size([4, 8, 512])\n",
      "torch.Size([4, 23, 512])\n",
      "torch.Size([4, 19, 512])\n",
      "torch.Size([4, 10, 512])\n",
      "torch.Size([4, 11, 512])\n",
      "torch.Size([4, 26, 512])\n",
      "torch.Size([4, 25, 512])\n",
      "torch.Size([4, 153, 512])\n",
      "torch.Size([4, 97, 512])\n",
      "torch.Size([4, 90, 512])\n",
      "torch.Size([4, 253, 512])\n",
      "torch.Size([4, 144, 512])\n",
      "torch.Size([4, 118, 512])\n",
      "torch.Size([4, 35, 512])\n",
      "torch.Size([4, 13, 512])\n",
      "torch.Size([4, 25, 512])\n"
     ]
    },
    {
     "name": "stderr",
     "output_type": "stream",
     "text": [
      "  0%|          | 754/450338 [00:11<1:25:17, 87.86it/s]"
     ]
    },
    {
     "name": "stdout",
     "output_type": "stream",
     "text": [
      "torch.Size([4, 57, 512])\n",
      "torch.Size([4, 17, 512])\n",
      "torch.Size([4, 28, 512])\n",
      "torch.Size([4, 19, 512])\n",
      "torch.Size([4, 66, 512])\n",
      "torch.Size([4, 10, 512])\n",
      "torch.Size([4, 14, 512])\n",
      "torch.Size([4, 15, 512])\n",
      "torch.Size([4, 11, 512])\n",
      "torch.Size([4, 11, 512])\n",
      "torch.Size([4, 21, 512])\n",
      "torch.Size([4, 10, 512])\n",
      "torch.Size([4, 11, 512])\n",
      "torch.Size([4, 26, 512])\n",
      "torch.Size([4, 46, 512])\n",
      "torch.Size([4, 21, 512])\n",
      "torch.Size([4, 49, 512])\n",
      "torch.Size([4, 147, 512])\n",
      "torch.Size([4, 136, 512])\n",
      "torch.Size([4, 160, 512])\n",
      "torch.Size([4, 68, 512])\n",
      "torch.Size([4, 72, 512])\n",
      "torch.Size([4, 174, 512])\n"
     ]
    },
    {
     "name": "stderr",
     "output_type": "stream",
     "text": [
      "  0%|          | 775/450338 [00:12<1:21:29, 91.95it/s]"
     ]
    },
    {
     "name": "stdout",
     "output_type": "stream",
     "text": [
      "torch.Size([4, 7, 512])\n",
      "torch.Size([4, 77, 512])\n",
      "torch.Size([4, 160, 512])\n",
      "torch.Size([4, 55, 512])\n",
      "torch.Size([4, 35, 512])\n",
      "torch.Size([4, 105, 512])\n",
      "torch.Size([4, 67, 512])\n",
      "torch.Size([4, 34, 512])\n",
      "torch.Size([4, 31, 512])\n",
      "torch.Size([4, 168, 512])\n",
      "torch.Size([4, 137, 512])\n",
      "torch.Size([4, 104, 512])\n",
      "torch.Size([4, 142, 512])\n",
      "torch.Size([4, 174, 512])\n",
      "torch.Size([4, 132, 512])\n",
      "torch.Size([4, 187, 512])\n",
      "torch.Size([4, 42, 512])\n",
      "torch.Size([4, 257, 512])\n"
     ]
    },
    {
     "name": "stderr",
     "output_type": "stream",
     "text": [
      "  0%|          | 794/450338 [00:12<1:39:45, 75.10it/s]"
     ]
    },
    {
     "name": "stdout",
     "output_type": "stream",
     "text": [
      "torch.Size([4, 261, 512])\n",
      "torch.Size([4, 14, 512])\n",
      "torch.Size([4, 222, 512])\n",
      "torch.Size([4, 178, 512])\n",
      "torch.Size([4, 168, 512])\n",
      "torch.Size([4, 287, 512])\n",
      "torch.Size([4, 7, 512])\n",
      "torch.Size([4, 242, 512])\n",
      "torch.Size([4, 236, 512])\n",
      "torch.Size([4, 211, 512])\n",
      "torch.Size([4, 327, 512])\n",
      "torch.Size([4, 300, 512])\n"
     ]
    },
    {
     "name": "stderr",
     "output_type": "stream",
     "text": [
      "  0%|          | 802/450338 [00:12<1:55:35, 64.81it/s]"
     ]
    },
    {
     "name": "stdout",
     "output_type": "stream",
     "text": [
      "torch.Size([4, 288, 512])\n",
      "torch.Size([4, 294, 512])\n",
      "torch.Size([4, 222, 512])\n",
      "torch.Size([4, 242, 512])\n",
      "torch.Size([4, 235, 512])\n",
      "torch.Size([4, 192, 512])\n",
      "torch.Size([4, 16, 512])\n",
      "torch.Size([4, 294, 512])\n",
      "torch.Size([4, 203, 512])\n",
      "torch.Size([4, 235, 512])\n",
      "torch.Size([4, 363, 512])\n"
     ]
    },
    {
     "name": "stderr",
     "output_type": "stream",
     "text": [
      "  0%|          | 816/450338 [00:12<2:05:32, 59.68it/s]"
     ]
    },
    {
     "name": "stdout",
     "output_type": "stream",
     "text": [
      "torch.Size([4, 246, 512])\n",
      "torch.Size([4, 183, 512])\n",
      "torch.Size([4, 176, 512])\n",
      "torch.Size([4, 198, 512])\n",
      "torch.Size([4, 245, 512])\n",
      "torch.Size([4, 153, 512])\n",
      "torch.Size([4, 296, 512])\n",
      "torch.Size([4, 185, 512])\n",
      "torch.Size([4, 195, 512])\n",
      "torch.Size([4, 96, 512])\n",
      "torch.Size([4, 173, 512])\n",
      "torch.Size([4, 221, 512])\n"
     ]
    },
    {
     "name": "stderr",
     "output_type": "stream",
     "text": [
      "  0%|          | 829/450338 [00:13<2:08:17, 58.40it/s]"
     ]
    },
    {
     "name": "stdout",
     "output_type": "stream",
     "text": [
      "torch.Size([4, 263, 512])\n",
      "torch.Size([4, 225, 512])\n",
      "torch.Size([4, 300, 512])\n",
      "torch.Size([4, 203, 512])\n",
      "torch.Size([4, 190, 512])\n",
      "torch.Size([4, 68, 512])\n",
      "torch.Size([4, 242, 512])\n",
      "torch.Size([4, 268, 512])\n",
      "torch.Size([4, 185, 512])\n",
      "torch.Size([4, 210, 512])\n",
      "torch.Size([4, 257, 512])\n"
     ]
    },
    {
     "name": "stderr",
     "output_type": "stream",
     "text": [
      "  0%|          | 835/450338 [00:13<2:18:24, 54.13it/s]"
     ]
    },
    {
     "name": "stdout",
     "output_type": "stream",
     "text": [
      "torch.Size([4, 366, 512])\n",
      "torch.Size([4, 227, 512])\n",
      "torch.Size([4, 353, 512])\n",
      "torch.Size([4, 286, 512])\n",
      "torch.Size([4, 56, 512])\n",
      "torch.Size([4, 290, 512])\n",
      "torch.Size([4, 113, 512])\n",
      "torch.Size([4, 76, 512])\n",
      "torch.Size([4, 124, 512])\n",
      "torch.Size([4, 189, 512])\n",
      "torch.Size([4, 7, 512])\n",
      "torch.Size([4, 158, 512])\n"
     ]
    },
    {
     "name": "stderr",
     "output_type": "stream",
     "text": [
      "  0%|          | 851/450338 [00:13<1:59:27, 62.71it/s]"
     ]
    },
    {
     "name": "stdout",
     "output_type": "stream",
     "text": [
      "torch.Size([4, 10, 512])\n",
      "torch.Size([4, 178, 512])\n",
      "torch.Size([4, 171, 512])\n",
      "torch.Size([4, 197, 512])\n",
      "torch.Size([4, 18, 512])\n",
      "torch.Size([4, 178, 512])\n",
      "torch.Size([4, 246, 512])\n",
      "torch.Size([4, 12, 512])\n",
      "torch.Size([4, 148, 512])\n",
      "torch.Size([4, 144, 512])\n",
      "torch.Size([4, 89, 512])\n",
      "torch.Size([4, 41, 512])\n",
      "torch.Size([4, 109, 512])\n",
      "torch.Size([4, 78, 512])\n",
      "torch.Size([4, 252, 512])\n",
      "torch.Size([4, 137, 512])\n"
     ]
    },
    {
     "name": "stderr",
     "output_type": "stream",
     "text": [
      "  0%|          | 866/450338 [00:13<1:59:24, 62.74it/s]"
     ]
    },
    {
     "name": "stdout",
     "output_type": "stream",
     "text": [
      "torch.Size([4, 257, 512])\n",
      "torch.Size([4, 92, 512])\n",
      "torch.Size([4, 9, 512])\n",
      "torch.Size([4, 389, 512])\n",
      "torch.Size([4, 178, 512])\n",
      "torch.Size([4, 162, 512])\n",
      "torch.Size([4, 8, 512])\n",
      "torch.Size([4, 299, 512])\n",
      "torch.Size([4, 89, 512])\n",
      "torch.Size([4, 269, 512])\n",
      "torch.Size([4, 138, 512])\n",
      "torch.Size([4, 46, 512])\n"
     ]
    },
    {
     "name": "stderr",
     "output_type": "stream",
     "text": [
      "  0%|          | 874/450338 [00:13<1:52:05, 66.83it/s]"
     ]
    },
    {
     "name": "stdout",
     "output_type": "stream",
     "text": [
      "torch.Size([4, 208, 512])\n",
      "torch.Size([4, 86, 512])\n",
      "torch.Size([4, 196, 512])\n",
      "torch.Size([4, 8, 512])\n",
      "torch.Size([4, 193, 512])\n",
      "torch.Size([4, 194, 512])\n",
      "torch.Size([4, 191, 512])\n",
      "torch.Size([4, 443, 512])\n",
      "torch.Size([4, 324, 512])\n",
      "torch.Size([4, 99, 512])\n",
      "torch.Size([4, 348, 512])\n"
     ]
    },
    {
     "name": "stderr",
     "output_type": "stream",
     "text": [
      "  0%|          | 889/450338 [00:14<1:58:15, 63.34it/s]"
     ]
    },
    {
     "name": "stdout",
     "output_type": "stream",
     "text": [
      "torch.Size([4, 100, 512])\n",
      "torch.Size([4, 185, 512])\n",
      "torch.Size([4, 221, 512])\n",
      "torch.Size([4, 49, 512])\n",
      "torch.Size([4, 97, 512])\n",
      "torch.Size([4, 39, 512])\n",
      "torch.Size([4, 114, 512])\n",
      "torch.Size([4, 299, 512])\n",
      "torch.Size([4, 124, 512])\n",
      "torch.Size([4, 73, 512])\n",
      "torch.Size([4, 8, 512])\n",
      "torch.Size([4, 62, 512])\n",
      "torch.Size([4, 138, 512])\n",
      "torch.Size([4, 200, 512])\n",
      "torch.Size([4, 149, 512])\n",
      "torch.Size([4, 8, 512])\n",
      "torch.Size([4, 327, 512])\n"
     ]
    },
    {
     "name": "stderr",
     "output_type": "stream",
     "text": [
      "  0%|          | 905/450338 [00:14<2:13:24, 56.15it/s]"
     ]
    },
    {
     "name": "stdout",
     "output_type": "stream",
     "text": [
      "torch.Size([4, 389, 512])\n",
      "torch.Size([4, 260, 512])\n",
      "torch.Size([4, 11, 512])\n",
      "torch.Size([4, 432, 512])\n",
      "torch.Size([4, 207, 512])\n",
      "torch.Size([4, 442, 512])\n",
      "torch.Size([4, 219, 512])\n",
      "torch.Size([4, 259, 512])\n"
     ]
    },
    {
     "name": "stderr",
     "output_type": "stream",
     "text": [
      "  0%|          | 922/450338 [00:14<1:51:29, 67.19it/s]"
     ]
    },
    {
     "name": "stdout",
     "output_type": "stream",
     "text": [
      "torch.Size([4, 8, 512])\n",
      "torch.Size([4, 12, 512])\n",
      "torch.Size([4, 11, 512])\n",
      "torch.Size([4, 9, 512])\n",
      "torch.Size([4, 9, 512])\n",
      "torch.Size([4, 90, 512])\n",
      "torch.Size([4, 81, 512])\n",
      "torch.Size([4, 143, 512])\n",
      "torch.Size([4, 234, 512])\n",
      "torch.Size([4, 113, 512])\n",
      "torch.Size([4, 137, 512])\n",
      "torch.Size([4, 63, 512])\n",
      "torch.Size([4, 168, 512])\n",
      "torch.Size([4, 55, 512])\n",
      "torch.Size([4, 180, 512])\n",
      "torch.Size([4, 153, 512])\n",
      "torch.Size([4, 101, 512])\n",
      "torch.Size([4, 135, 512])\n"
     ]
    },
    {
     "name": "stderr",
     "output_type": "stream",
     "text": [
      "  0%|          | 930/450338 [00:14<1:46:31, 70.31it/s]"
     ]
    },
    {
     "name": "stdout",
     "output_type": "stream",
     "text": [
      "torch.Size([4, 193, 512])\n",
      "torch.Size([4, 228, 512])\n",
      "torch.Size([4, 69, 512])\n",
      "torch.Size([4, 70, 512])\n",
      "torch.Size([4, 38, 512])\n",
      "torch.Size([4, 148, 512])\n",
      "torch.Size([4, 105, 512])\n",
      "torch.Size([4, 178, 512])\n",
      "torch.Size([4, 140, 512])\n",
      "torch.Size([4, 281, 512])\n",
      "torch.Size([4, 259, 512])\n",
      "torch.Size([4, 204, 512])\n",
      "torch.Size([4, 184, 512])\n",
      "torch.Size([4, 10, 512])\n"
     ]
    },
    {
     "name": "stderr",
     "output_type": "stream",
     "text": [
      "  0%|          | 938/450338 [00:14<1:49:48, 68.21it/s]"
     ]
    },
    {
     "name": "stdout",
     "output_type": "stream",
     "text": [
      "torch.Size([4, 247, 512])\n",
      "torch.Size([4, 192, 512])\n",
      "torch.Size([4, 425, 512])\n",
      "torch.Size([4, 241, 512])\n",
      "torch.Size([4, 448, 512])\n",
      "torch.Size([4, 225, 512])\n",
      "torch.Size([4, 258, 512])\n",
      "torch.Size([4, 287, 512])\n"
     ]
    },
    {
     "name": "stderr",
     "output_type": "stream",
     "text": [
      "  0%|          | 953/450338 [00:15<2:13:45, 55.99it/s]"
     ]
    },
    {
     "name": "stdout",
     "output_type": "stream",
     "text": [
      "torch.Size([4, 334, 512])\n",
      "torch.Size([4, 292, 512])\n",
      "torch.Size([4, 9, 512])\n",
      "torch.Size([4, 160, 512])\n",
      "torch.Size([4, 169, 512])\n",
      "torch.Size([4, 173, 512])\n",
      "torch.Size([4, 191, 512])\n",
      "torch.Size([4, 10, 512])\n",
      "torch.Size([4, 288, 512])\n",
      "torch.Size([4, 311, 512])\n",
      "torch.Size([4, 125, 512])\n",
      "torch.Size([4, 73, 512])\n"
     ]
    },
    {
     "name": "stderr",
     "output_type": "stream",
     "text": [
      "  0%|          | 970/450338 [00:15<1:52:51, 66.36it/s]"
     ]
    },
    {
     "name": "stdout",
     "output_type": "stream",
     "text": [
      "torch.Size([4, 166, 512])\n",
      "torch.Size([4, 130, 512])\n",
      "torch.Size([4, 23, 512])\n",
      "torch.Size([4, 10, 512])\n",
      "torch.Size([4, 74, 512])\n",
      "torch.Size([4, 10, 512])\n",
      "torch.Size([4, 96, 512])\n",
      "torch.Size([4, 155, 512])\n",
      "torch.Size([4, 157, 512])\n",
      "torch.Size([4, 166, 512])\n",
      "torch.Size([4, 180, 512])\n",
      "torch.Size([4, 121, 512])\n",
      "torch.Size([4, 198, 512])\n",
      "torch.Size([4, 158, 512])\n",
      "torch.Size([4, 23, 512])\n",
      "torch.Size([4, 131, 512])\n",
      "torch.Size([4, 131, 512])\n"
     ]
    },
    {
     "name": "stderr",
     "output_type": "stream",
     "text": [
      "  0%|          | 987/450338 [00:15<1:43:47, 72.15it/s]"
     ]
    },
    {
     "name": "stdout",
     "output_type": "stream",
     "text": [
      "torch.Size([4, 79, 512])\n",
      "torch.Size([4, 107, 512])\n",
      "torch.Size([4, 74, 512])\n",
      "torch.Size([4, 53, 512])\n",
      "torch.Size([4, 50, 512])\n",
      "torch.Size([4, 220, 512])\n",
      "torch.Size([4, 76, 512])\n",
      "torch.Size([4, 12, 512])\n",
      "torch.Size([4, 119, 512])\n",
      "torch.Size([4, 190, 512])\n",
      "torch.Size([4, 177, 512])\n",
      "torch.Size([4, 252, 512])\n",
      "torch.Size([4, 164, 512])\n",
      "torch.Size([4, 197, 512])\n",
      "torch.Size([4, 394, 512])\n"
     ]
    },
    {
     "name": "stderr",
     "output_type": "stream",
     "text": [
      "  0%|          | 995/450338 [00:15<2:01:22, 61.70it/s]"
     ]
    },
    {
     "name": "stdout",
     "output_type": "stream",
     "text": [
      "torch.Size([4, 268, 512])\n",
      "torch.Size([4, 220, 512])\n",
      "torch.Size([4, 344, 512])\n",
      "torch.Size([4, 164, 512])\n",
      "torch.Size([4, 310, 512])\n",
      "torch.Size([4, 292, 512])\n",
      "torch.Size([4, 183, 512])\n",
      "torch.Size([4, 291, 512])\n",
      "torch.Size([4, 146, 512])\n",
      "torch.Size([4, 272, 512])\n"
     ]
    },
    {
     "name": "stderr",
     "output_type": "stream",
     "text": [
      "  0%|          | 1012/450338 [00:16<1:49:43, 68.25it/s]"
     ]
    },
    {
     "name": "stdout",
     "output_type": "stream",
     "text": [
      "torch.Size([4, 217, 512])\n",
      "torch.Size([4, 60, 512])\n",
      "torch.Size([4, 218, 512])\n",
      "torch.Size([4, 122, 512])\n",
      "torch.Size([4, 78, 512])\n",
      "torch.Size([4, 117, 512])\n",
      "torch.Size([4, 131, 512])\n",
      "torch.Size([4, 100, 512])\n",
      "torch.Size([4, 30, 512])\n",
      "torch.Size([4, 53, 512])\n",
      "torch.Size([4, 80, 512])\n",
      "torch.Size([4, 71, 512])\n",
      "torch.Size([4, 113, 512])\n",
      "torch.Size([4, 70, 512])\n",
      "torch.Size([4, 115, 512])\n",
      "torch.Size([4, 201, 512])\n"
     ]
    },
    {
     "name": "stderr",
     "output_type": "stream",
     "text": [
      "  0%|          | 1029/450338 [00:16<1:42:34, 73.00it/s]"
     ]
    },
    {
     "name": "stdout",
     "output_type": "stream",
     "text": [
      "torch.Size([4, 75, 512])\n",
      "torch.Size([4, 110, 512])\n",
      "torch.Size([4, 41, 512])\n",
      "torch.Size([4, 123, 512])\n",
      "torch.Size([4, 121, 512])\n",
      "torch.Size([4, 130, 512])\n",
      "torch.Size([4, 184, 512])\n",
      "torch.Size([4, 71, 512])\n",
      "torch.Size([4, 216, 512])\n",
      "torch.Size([4, 102, 512])\n",
      "torch.Size([4, 27, 512])\n",
      "torch.Size([4, 100, 512])\n",
      "torch.Size([4, 43, 512])\n",
      "torch.Size([4, 74, 512])\n",
      "torch.Size([4, 56, 512])\n",
      "torch.Size([4, 144, 512])\n",
      "torch.Size([4, 73, 512])\n",
      "torch.Size([4, 111, 512])\n",
      "torch.Size([4, 82, 512])\n"
     ]
    },
    {
     "name": "stderr",
     "output_type": "stream",
     "text": [
      "  0%|          | 1039/450338 [00:16<1:33:47, 79.83it/s]"
     ]
    },
    {
     "name": "stdout",
     "output_type": "stream",
     "text": [
      "torch.Size([4, 33, 512])\n",
      "torch.Size([4, 193, 512])\n",
      "torch.Size([4, 70, 512])\n",
      "torch.Size([4, 8, 512])\n",
      "torch.Size([4, 151, 512])\n",
      "torch.Size([4, 272, 512])\n",
      "torch.Size([4, 254, 512])\n",
      "torch.Size([4, 231, 512])\n",
      "torch.Size([4, 184, 512])\n",
      "torch.Size([4, 325, 512])\n",
      "torch.Size([4, 204, 512])\n",
      "torch.Size([4, 260, 512])\n"
     ]
    },
    {
     "name": "stderr",
     "output_type": "stream",
     "text": [
      "  0%|          | 1056/450338 [00:16<1:44:58, 71.34it/s]"
     ]
    },
    {
     "name": "stdout",
     "output_type": "stream",
     "text": [
      "torch.Size([4, 16, 512])\n",
      "torch.Size([4, 24, 512])\n",
      "torch.Size([4, 17, 512])\n",
      "torch.Size([4, 8, 512])\n",
      "torch.Size([4, 113, 512])\n",
      "torch.Size([4, 336, 512])\n",
      "torch.Size([4, 89, 512])\n",
      "torch.Size([4, 216, 512])\n",
      "torch.Size([4, 118, 512])\n",
      "torch.Size([4, 300, 512])\n",
      "torch.Size([4, 184, 512])\n",
      "torch.Size([4, 118, 512])\n",
      "torch.Size([4, 112, 512])\n",
      "torch.Size([4, 15, 512])\n",
      "torch.Size([4, 154, 512])\n",
      "torch.Size([4, 159, 512])\n"
     ]
    },
    {
     "name": "stderr",
     "output_type": "stream",
     "text": [
      "  0%|          | 1072/450338 [00:16<1:43:40, 72.22it/s]"
     ]
    },
    {
     "name": "stdout",
     "output_type": "stream",
     "text": [
      "torch.Size([4, 222, 512])\n",
      "torch.Size([4, 202, 512])\n",
      "torch.Size([4, 171, 512])\n",
      "torch.Size([4, 146, 512])\n",
      "torch.Size([4, 77, 512])\n",
      "torch.Size([4, 83, 512])\n",
      "torch.Size([4, 151, 512])\n",
      "torch.Size([4, 123, 512])\n",
      "torch.Size([4, 203, 512])\n",
      "torch.Size([4, 80, 512])\n",
      "torch.Size([4, 345, 512])\n",
      "torch.Size([4, 231, 512])\n",
      "torch.Size([4, 123, 512])\n",
      "torch.Size([4, 206, 512])\n"
     ]
    },
    {
     "name": "stderr",
     "output_type": "stream",
     "text": [
      "  0%|          | 1089/450338 [00:17<1:46:57, 70.00it/s]"
     ]
    },
    {
     "name": "stdout",
     "output_type": "stream",
     "text": [
      "torch.Size([4, 160, 512])\n",
      "torch.Size([4, 105, 512])\n",
      "torch.Size([4, 93, 512])\n",
      "torch.Size([4, 215, 512])\n",
      "torch.Size([4, 10, 512])\n",
      "torch.Size([4, 101, 512])\n",
      "torch.Size([4, 144, 512])\n",
      "torch.Size([4, 13, 512])\n",
      "torch.Size([4, 63, 512])\n",
      "torch.Size([4, 77, 512])\n",
      "torch.Size([4, 120, 512])\n",
      "torch.Size([4, 504, 512])\n",
      "torch.Size([4, 91, 512])\n",
      "torch.Size([4, 198, 512])\n",
      "torch.Size([4, 24, 512])\n",
      "torch.Size([4, 13, 512])\n"
     ]
    },
    {
     "name": "stderr",
     "output_type": "stream",
     "text": [
      "  0%|          | 1107/450338 [00:17<1:36:38, 77.47it/s]"
     ]
    },
    {
     "name": "stdout",
     "output_type": "stream",
     "text": [
      "torch.Size([4, 11, 512])\n",
      "torch.Size([4, 241, 512])\n",
      "torch.Size([4, 83, 512])\n",
      "torch.Size([4, 10, 512])\n",
      "torch.Size([4, 275, 512])\n",
      "torch.Size([4, 73, 512])\n",
      "torch.Size([4, 248, 512])\n",
      "torch.Size([4, 109, 512])\n",
      "torch.Size([4, 153, 512])\n",
      "torch.Size([4, 12, 512])\n",
      "torch.Size([4, 125, 512])\n",
      "torch.Size([4, 81, 512])\n",
      "torch.Size([4, 85, 512])\n",
      "torch.Size([4, 95, 512])\n",
      "torch.Size([4, 85, 512])\n",
      "torch.Size([4, 17, 512])\n",
      "torch.Size([4, 11, 512])\n",
      "torch.Size([4, 7, 512])\n"
     ]
    },
    {
     "name": "stderr",
     "output_type": "stream",
     "text": [
      "  0%|          | 1115/450338 [00:17<1:36:29, 77.59it/s]"
     ]
    },
    {
     "name": "stdout",
     "output_type": "stream",
     "text": [
      "torch.Size([4, 171, 512])\n",
      "torch.Size([4, 130, 512])\n",
      "torch.Size([4, 234, 512])\n",
      "torch.Size([4, 253, 512])\n",
      "torch.Size([4, 273, 512])\n",
      "torch.Size([4, 254, 512])\n",
      "torch.Size([4, 193, 512])\n",
      "torch.Size([4, 204, 512])\n",
      "torch.Size([4, 270, 512])\n",
      "torch.Size([4, 247, 512])\n",
      "torch.Size([4, 61, 512])\n",
      "torch.Size([4, 194, 512])\n"
     ]
    },
    {
     "name": "stderr",
     "output_type": "stream",
     "text": [
      "  0%|          | 1131/450338 [00:17<1:45:18, 71.09it/s]"
     ]
    },
    {
     "name": "stdout",
     "output_type": "stream",
     "text": [
      "torch.Size([4, 158, 512])\n",
      "torch.Size([4, 96, 512])\n",
      "torch.Size([4, 170, 512])\n",
      "torch.Size([4, 81, 512])\n",
      "torch.Size([4, 14, 512])\n",
      "torch.Size([4, 318, 512])\n",
      "torch.Size([4, 146, 512])\n",
      "torch.Size([4, 91, 512])\n",
      "torch.Size([4, 240, 512])\n",
      "torch.Size([4, 155, 512])\n",
      "torch.Size([4, 79, 512])\n",
      "torch.Size([4, 77, 512])\n",
      "torch.Size([4, 114, 512])\n",
      "torch.Size([4, 79, 512])\n",
      "torch.Size([4, 88, 512])\n",
      "torch.Size([4, 212, 512])\n"
     ]
    },
    {
     "name": "stderr",
     "output_type": "stream",
     "text": [
      "  0%|          | 1149/450338 [00:17<1:39:53, 74.95it/s]"
     ]
    },
    {
     "name": "stdout",
     "output_type": "stream",
     "text": [
      "torch.Size([4, 304, 512])\n",
      "torch.Size([4, 89, 512])\n",
      "torch.Size([4, 118, 512])\n",
      "torch.Size([4, 191, 512])\n",
      "torch.Size([4, 101, 512])\n",
      "torch.Size([4, 118, 512])\n",
      "torch.Size([4, 125, 512])\n",
      "torch.Size([4, 241, 512])\n",
      "torch.Size([4, 123, 512])\n",
      "torch.Size([4, 94, 512])\n",
      "torch.Size([4, 14, 512])\n",
      "torch.Size([4, 184, 512])\n",
      "torch.Size([4, 228, 512])\n",
      "torch.Size([4, 170, 512])\n",
      "torch.Size([4, 38, 512])\n",
      "torch.Size([4, 178, 512])\n"
     ]
    },
    {
     "name": "stderr",
     "output_type": "stream",
     "text": [
      "  0%|          | 1165/450338 [00:18<1:58:55, 62.95it/s]"
     ]
    },
    {
     "name": "stdout",
     "output_type": "stream",
     "text": [
      "torch.Size([4, 95, 512])\n",
      "torch.Size([4, 292, 512])\n",
      "torch.Size([4, 178, 512])\n",
      "torch.Size([4, 171, 512])\n",
      "torch.Size([4, 180, 512])\n",
      "torch.Size([4, 10, 512])\n",
      "torch.Size([4, 150, 512])\n",
      "torch.Size([4, 245, 512])\n",
      "torch.Size([4, 86, 512])\n",
      "torch.Size([4, 154, 512])\n",
      "torch.Size([4, 178, 512])\n",
      "torch.Size([4, 138, 512])\n",
      "torch.Size([4, 331, 512])\n",
      "torch.Size([4, 148, 512])\n"
     ]
    },
    {
     "name": "stderr",
     "output_type": "stream",
     "text": [
      "  0%|          | 1180/450338 [00:18<1:52:38, 66.46it/s]"
     ]
    },
    {
     "name": "stdout",
     "output_type": "stream",
     "text": [
      "torch.Size([4, 206, 512])\n",
      "torch.Size([4, 138, 512])\n",
      "torch.Size([4, 26, 512])\n",
      "torch.Size([4, 191, 512])\n",
      "torch.Size([4, 80, 512])\n",
      "torch.Size([4, 260, 512])\n",
      "torch.Size([4, 220, 512])\n",
      "torch.Size([4, 51, 512])\n",
      "torch.Size([4, 122, 512])\n",
      "torch.Size([4, 57, 512])\n",
      "torch.Size([4, 94, 512])\n",
      "torch.Size([4, 48, 512])\n",
      "torch.Size([4, 84, 512])\n",
      "torch.Size([4, 60, 512])\n",
      "torch.Size([4, 56, 512])\n",
      "torch.Size([4, 17, 512])\n",
      "torch.Size([4, 65, 512])\n",
      "torch.Size([4, 83, 512])\n"
     ]
    },
    {
     "name": "stderr",
     "output_type": "stream",
     "text": [
      "  0%|          | 1201/450338 [00:18<1:34:33, 79.17it/s]"
     ]
    },
    {
     "name": "stdout",
     "output_type": "stream",
     "text": [
      "torch.Size([4, 29, 512])\n",
      "torch.Size([4, 43, 512])\n",
      "torch.Size([4, 69, 512])\n",
      "torch.Size([4, 27, 512])\n",
      "torch.Size([4, 26, 512])\n",
      "torch.Size([4, 27, 512])\n",
      "torch.Size([4, 44, 512])\n",
      "torch.Size([4, 40, 512])\n",
      "torch.Size([4, 36, 512])\n",
      "torch.Size([4, 55, 512])\n",
      "torch.Size([4, 21, 512])\n",
      "torch.Size([4, 236, 512])\n",
      "torch.Size([4, 166, 512])\n",
      "torch.Size([4, 330, 512])\n",
      "torch.Size([4, 72, 512])\n",
      "torch.Size([4, 169, 512])\n",
      "torch.Size([4, 127, 512])\n",
      "torch.Size([4, 74, 512])\n"
     ]
    },
    {
     "name": "stderr",
     "output_type": "stream",
     "text": [
      "  0%|          | 1210/450338 [00:18<1:34:26, 79.26it/s]"
     ]
    },
    {
     "name": "stdout",
     "output_type": "stream",
     "text": [
      "torch.Size([4, 8, 512])\n",
      "torch.Size([4, 87, 512])\n",
      "torch.Size([4, 222, 512])\n",
      "torch.Size([4, 228, 512])\n",
      "torch.Size([4, 146, 512])\n",
      "torch.Size([4, 176, 512])\n",
      "torch.Size([4, 156, 512])\n",
      "torch.Size([4, 174, 512])\n",
      "torch.Size([4, 272, 512])\n",
      "torch.Size([4, 108, 512])\n",
      "torch.Size([4, 201, 512])\n",
      "torch.Size([4, 302, 512])\n",
      "torch.Size([4, 200, 512])\n"
     ]
    },
    {
     "name": "stderr",
     "output_type": "stream",
     "text": [
      "  0%|          | 1229/450338 [00:19<1:39:29, 75.23it/s]"
     ]
    },
    {
     "name": "stdout",
     "output_type": "stream",
     "text": [
      "torch.Size([4, 65, 512])\n",
      "torch.Size([4, 195, 512])\n",
      "torch.Size([4, 102, 512])\n",
      "torch.Size([4, 121, 512])\n",
      "torch.Size([4, 44, 512])\n",
      "torch.Size([4, 28, 512])\n",
      "torch.Size([4, 20, 512])\n",
      "torch.Size([4, 164, 512])\n",
      "torch.Size([4, 39, 512])\n",
      "torch.Size([4, 23, 512])\n",
      "torch.Size([4, 275, 512])\n",
      "torch.Size([4, 169, 512])\n",
      "torch.Size([4, 74, 512])\n",
      "torch.Size([4, 209, 512])\n",
      "torch.Size([4, 142, 512])\n",
      "torch.Size([4, 270, 512])\n"
     ]
    },
    {
     "name": "stderr",
     "output_type": "stream",
     "text": [
      "  0%|          | 1247/450338 [00:19<1:35:53, 78.05it/s]"
     ]
    },
    {
     "name": "stdout",
     "output_type": "stream",
     "text": [
      "torch.Size([4, 128, 512])\n",
      "torch.Size([4, 227, 512])\n",
      "torch.Size([4, 27, 512])\n",
      "torch.Size([4, 39, 512])\n",
      "torch.Size([4, 132, 512])\n",
      "torch.Size([4, 122, 512])\n",
      "torch.Size([4, 50, 512])\n",
      "torch.Size([4, 201, 512])\n",
      "torch.Size([4, 105, 512])\n",
      "torch.Size([4, 63, 512])\n",
      "torch.Size([4, 144, 512])\n",
      "torch.Size([4, 88, 512])\n",
      "torch.Size([4, 135, 512])\n",
      "torch.Size([4, 242, 512])\n",
      "torch.Size([4, 108, 512])\n",
      "torch.Size([4, 200, 512])\n",
      "torch.Size([4, 19, 512])\n"
     ]
    },
    {
     "name": "stderr",
     "output_type": "stream",
     "text": [
      "  0%|          | 1265/450338 [00:19<1:30:46, 82.45it/s]"
     ]
    },
    {
     "name": "stdout",
     "output_type": "stream",
     "text": [
      "torch.Size([4, 140, 512])\n",
      "torch.Size([4, 93, 512])\n",
      "torch.Size([4, 146, 512])\n",
      "torch.Size([4, 153, 512])\n",
      "torch.Size([4, 70, 512])\n",
      "torch.Size([4, 113, 512])\n",
      "torch.Size([4, 65, 512])\n",
      "torch.Size([4, 38, 512])\n",
      "torch.Size([4, 81, 512])\n",
      "torch.Size([4, 69, 512])\n",
      "torch.Size([4, 162, 512])\n",
      "torch.Size([4, 81, 512])\n",
      "torch.Size([4, 107, 512])\n",
      "torch.Size([4, 181, 512])\n",
      "torch.Size([4, 92, 512])\n",
      "torch.Size([4, 110, 512])\n",
      "torch.Size([4, 166, 512])\n",
      "torch.Size([4, 62, 512])\n",
      "torch.Size([4, 135, 512])\n"
     ]
    },
    {
     "name": "stderr",
     "output_type": "stream",
     "text": [
      "  0%|          | 1283/450338 [00:19<1:29:21, 83.76it/s]"
     ]
    },
    {
     "name": "stdout",
     "output_type": "stream",
     "text": [
      "torch.Size([4, 107, 512])\n",
      "torch.Size([4, 113, 512])\n",
      "torch.Size([4, 148, 512])\n",
      "torch.Size([4, 108, 512])\n",
      "torch.Size([4, 223, 512])\n",
      "torch.Size([4, 110, 512])\n",
      "torch.Size([4, 91, 512])\n",
      "torch.Size([4, 131, 512])\n",
      "torch.Size([4, 178, 512])\n",
      "torch.Size([4, 129, 512])\n",
      "torch.Size([4, 10, 512])\n",
      "torch.Size([4, 7, 512])\n",
      "torch.Size([4, 178, 512])\n",
      "torch.Size([4, 233, 512])\n",
      "torch.Size([4, 361, 512])\n"
     ]
    },
    {
     "name": "stderr",
     "output_type": "stream",
     "text": [
      "  0%|          | 1292/450338 [00:19<1:43:37, 72.23it/s]"
     ]
    },
    {
     "name": "stdout",
     "output_type": "stream",
     "text": [
      "torch.Size([4, 360, 512])\n",
      "torch.Size([4, 184, 512])\n",
      "torch.Size([4, 276, 512])\n",
      "torch.Size([4, 123, 512])\n",
      "torch.Size([4, 137, 512])\n",
      "torch.Size([4, 152, 512])\n",
      "torch.Size([4, 103, 512])\n",
      "torch.Size([4, 112, 512])\n",
      "torch.Size([4, 195, 512])\n",
      "torch.Size([4, 228, 512])\n",
      "torch.Size([4, 115, 512])\n",
      "torch.Size([4, 229, 512])\n",
      "torch.Size([4, 190, 512])\n"
     ]
    },
    {
     "name": "stderr",
     "output_type": "stream",
     "text": [
      "  0%|          | 1308/450338 [00:20<1:43:24, 72.38it/s]"
     ]
    },
    {
     "name": "stdout",
     "output_type": "stream",
     "text": [
      "torch.Size([4, 256, 512])\n",
      "torch.Size([4, 18, 512])\n",
      "torch.Size([4, 9, 512])\n",
      "torch.Size([4, 141, 512])\n",
      "torch.Size([4, 110, 512])\n",
      "torch.Size([4, 152, 512])\n",
      "torch.Size([4, 220, 512])\n",
      "torch.Size([4, 174, 512])\n",
      "torch.Size([4, 123, 512])\n",
      "torch.Size([4, 11, 512])\n",
      "torch.Size([4, 219, 512])\n",
      "torch.Size([4, 191, 512])\n",
      "torch.Size([4, 248, 512])\n",
      "torch.Size([4, 143, 512])\n",
      "torch.Size([4, 164, 512])\n"
     ]
    },
    {
     "name": "stderr",
     "output_type": "stream",
     "text": [
      "  0%|          | 1324/450338 [00:20<1:45:05, 71.21it/s]"
     ]
    },
    {
     "name": "stdout",
     "output_type": "stream",
     "text": [
      "torch.Size([4, 205, 512])\n",
      "torch.Size([4, 232, 512])\n",
      "torch.Size([4, 185, 512])\n",
      "torch.Size([4, 310, 512])\n",
      "torch.Size([4, 79, 512])\n",
      "torch.Size([4, 27, 512])\n",
      "torch.Size([4, 100, 512])\n",
      "torch.Size([4, 103, 512])\n",
      "torch.Size([4, 175, 512])\n",
      "torch.Size([4, 70, 512])\n",
      "torch.Size([4, 150, 512])\n",
      "torch.Size([4, 106, 512])\n",
      "torch.Size([4, 127, 512])\n",
      "torch.Size([4, 37, 512])\n",
      "torch.Size([4, 117, 512])\n",
      "torch.Size([4, 104, 512])\n"
     ]
    },
    {
     "name": "stderr",
     "output_type": "stream",
     "text": [
      "  0%|          | 1342/450338 [00:20<1:48:15, 69.12it/s]"
     ]
    },
    {
     "name": "stdout",
     "output_type": "stream",
     "text": [
      "torch.Size([4, 144, 512])\n",
      "torch.Size([4, 104, 512])\n",
      "torch.Size([4, 72, 512])\n",
      "torch.Size([4, 8, 512])\n",
      "torch.Size([4, 107, 512])\n",
      "torch.Size([4, 265, 512])\n",
      "torch.Size([4, 299, 512])\n",
      "torch.Size([4, 223, 512])\n",
      "torch.Size([4, 220, 512])\n",
      "torch.Size([4, 263, 512])\n",
      "torch.Size([4, 331, 512])\n",
      "torch.Size([4, 10, 512])\n",
      "torch.Size([4, 16, 512])\n",
      "torch.Size([4, 10, 512])\n"
     ]
    },
    {
     "name": "stderr",
     "output_type": "stream",
     "text": [
      "  0%|          | 1352/450338 [00:20<1:40:23, 74.54it/s]"
     ]
    },
    {
     "name": "stdout",
     "output_type": "stream",
     "text": [
      "torch.Size([4, 14, 512])\n",
      "torch.Size([4, 13, 512])\n",
      "torch.Size([4, 11, 512])\n",
      "torch.Size([4, 10, 512])\n",
      "torch.Size([4, 10, 512])\n",
      "torch.Size([4, 9, 512])\n",
      "torch.Size([4, 185, 512])\n",
      "torch.Size([4, 197, 512])\n",
      "torch.Size([4, 203, 512])\n",
      "torch.Size([4, 192, 512])\n",
      "torch.Size([4, 238, 512])\n",
      "torch.Size([4, 8, 512])\n",
      "torch.Size([4, 8, 512])\n",
      "torch.Size([4, 10, 512])\n",
      "torch.Size([4, 11, 512])\n",
      "torch.Size([4, 11, 512])\n",
      "torch.Size([4, 9, 512])\n",
      "torch.Size([4, 8, 512])\n",
      "torch.Size([4, 252, 512])\n"
     ]
    },
    {
     "name": "stderr",
     "output_type": "stream",
     "text": [
      "  0%|          | 1370/450338 [00:20<1:44:21, 71.70it/s]"
     ]
    },
    {
     "name": "stdout",
     "output_type": "stream",
     "text": [
      "torch.Size([4, 187, 512])\n",
      "torch.Size([4, 16, 512])\n",
      "torch.Size([4, 216, 512])\n",
      "torch.Size([4, 185, 512])\n",
      "torch.Size([4, 204, 512])\n",
      "torch.Size([4, 331, 512])\n",
      "torch.Size([4, 201, 512])\n",
      "torch.Size([4, 167, 512])\n",
      "torch.Size([4, 279, 512])\n",
      "torch.Size([4, 245, 512])\n",
      "torch.Size([4, 291, 512])\n",
      "torch.Size([4, 84, 512])\n"
     ]
    },
    {
     "name": "stderr",
     "output_type": "stream",
     "text": [
      "  0%|          | 1378/450338 [00:21<1:49:46, 68.16it/s]"
     ]
    },
    {
     "name": "stdout",
     "output_type": "stream",
     "text": [
      "torch.Size([4, 296, 512])\n",
      "torch.Size([4, 71, 512])\n",
      "torch.Size([4, 145, 512])\n",
      "torch.Size([4, 9, 512])\n",
      "torch.Size([4, 228, 512])\n",
      "torch.Size([4, 213, 512])\n",
      "torch.Size([4, 291, 512])\n",
      "torch.Size([4, 255, 512])\n",
      "torch.Size([4, 223, 512])\n",
      "torch.Size([4, 302, 512])\n",
      "torch.Size([4, 320, 512])\n"
     ]
    },
    {
     "name": "stderr",
     "output_type": "stream",
     "text": [
      "  0%|          | 1393/450338 [00:21<2:01:44, 61.46it/s]"
     ]
    },
    {
     "name": "stdout",
     "output_type": "stream",
     "text": [
      "torch.Size([4, 7, 512])\n",
      "torch.Size([4, 146, 512])\n",
      "torch.Size([4, 45, 512])\n",
      "torch.Size([4, 37, 512])\n",
      "torch.Size([4, 79, 512])\n",
      "torch.Size([4, 147, 512])\n",
      "torch.Size([4, 83, 512])\n",
      "torch.Size([4, 404, 512])\n",
      "torch.Size([4, 255, 512])\n",
      "torch.Size([4, 330, 512])\n",
      "torch.Size([4, 212, 512])\n",
      "torch.Size([4, 324, 512])\n"
     ]
    },
    {
     "name": "stderr",
     "output_type": "stream",
     "text": [
      "  0%|          | 1410/450338 [00:21<1:49:40, 68.22it/s]"
     ]
    },
    {
     "name": "stdout",
     "output_type": "stream",
     "text": [
      "torch.Size([4, 151, 512])\n",
      "torch.Size([4, 202, 512])\n",
      "torch.Size([4, 10, 512])\n",
      "torch.Size([4, 61, 512])\n",
      "torch.Size([4, 124, 512])\n",
      "torch.Size([4, 185, 512])\n",
      "torch.Size([4, 97, 512])\n",
      "torch.Size([4, 64, 512])\n",
      "torch.Size([4, 108, 512])\n",
      "torch.Size([4, 78, 512])\n",
      "torch.Size([4, 68, 512])\n",
      "torch.Size([4, 115, 512])\n",
      "torch.Size([4, 115, 512])\n",
      "torch.Size([4, 143, 512])\n",
      "torch.Size([4, 155, 512])\n",
      "torch.Size([4, 238, 512])\n",
      "torch.Size([4, 17, 512])\n",
      "torch.Size([4, 266, 512])\n"
     ]
    },
    {
     "name": "stderr",
     "output_type": "stream",
     "text": [
      "  0%|          | 1425/450338 [00:21<1:52:41, 66.39it/s]"
     ]
    },
    {
     "name": "stdout",
     "output_type": "stream",
     "text": [
      "torch.Size([4, 123, 512])\n",
      "torch.Size([4, 58, 512])\n",
      "torch.Size([4, 387, 512])\n",
      "torch.Size([4, 8, 512])\n",
      "torch.Size([4, 16, 512])\n",
      "torch.Size([4, 35, 512])\n",
      "torch.Size([4, 165, 512])\n",
      "torch.Size([4, 215, 512])\n",
      "torch.Size([4, 188, 512])\n",
      "torch.Size([4, 352, 512])\n",
      "torch.Size([4, 87, 512])\n",
      "torch.Size([4, 96, 512])\n",
      "torch.Size([4, 10, 512])\n",
      "torch.Size([4, 8, 512])\n",
      "torch.Size([4, 194, 512])\n"
     ]
    },
    {
     "name": "stderr",
     "output_type": "stream",
     "text": [
      "  0%|          | 1441/450338 [00:22<1:53:42, 65.80it/s]"
     ]
    },
    {
     "name": "stdout",
     "output_type": "stream",
     "text": [
      "torch.Size([4, 128, 512])\n",
      "torch.Size([4, 266, 512])\n",
      "torch.Size([4, 198, 512])\n",
      "torch.Size([4, 236, 512])\n",
      "torch.Size([4, 258, 512])\n",
      "torch.Size([4, 291, 512])\n",
      "torch.Size([4, 82, 512])\n",
      "torch.Size([4, 172, 512])\n",
      "torch.Size([4, 48, 512])\n",
      "torch.Size([4, 226, 512])\n",
      "torch.Size([4, 81, 512])\n",
      "torch.Size([4, 63, 512])\n",
      "torch.Size([4, 41, 512])\n"
     ]
    },
    {
     "name": "stderr",
     "output_type": "stream",
     "text": [
      "  0%|          | 1460/450338 [00:22<1:38:10, 76.20it/s]"
     ]
    },
    {
     "name": "stdout",
     "output_type": "stream",
     "text": [
      "torch.Size([4, 44, 512])\n",
      "torch.Size([4, 47, 512])\n",
      "torch.Size([4, 46, 512])\n",
      "torch.Size([4, 62, 512])\n",
      "torch.Size([4, 49, 512])\n",
      "torch.Size([4, 41, 512])\n",
      "torch.Size([4, 78, 512])\n",
      "torch.Size([4, 52, 512])\n",
      "torch.Size([4, 37, 512])\n",
      "torch.Size([4, 44, 512])\n",
      "torch.Size([4, 50, 512])\n",
      "torch.Size([4, 48, 512])\n",
      "torch.Size([4, 48, 512])\n",
      "torch.Size([4, 266, 512])\n",
      "torch.Size([4, 59, 512])\n",
      "torch.Size([4, 139, 512])\n",
      "torch.Size([4, 284, 512])\n",
      "torch.Size([4, 24, 512])\n",
      "torch.Size([4, 35, 512])\n"
     ]
    },
    {
     "name": "stderr",
     "output_type": "stream",
     "text": [
      "  0%|          | 1475/450338 [00:22<1:55:01, 65.03it/s]"
     ]
    },
    {
     "name": "stdout",
     "output_type": "stream",
     "text": [
      "torch.Size([4, 35, 512])\n",
      "torch.Size([4, 35, 512])\n",
      "torch.Size([4, 35, 512])\n",
      "torch.Size([4, 35, 512])\n",
      "torch.Size([4, 35, 512])\n",
      "torch.Size([4, 102, 512])\n",
      "torch.Size([4, 136, 512])\n",
      "torch.Size([4, 54, 512])\n",
      "torch.Size([4, 393, 512])\n",
      "torch.Size([4, 113, 512])\n",
      "torch.Size([4, 90, 512])\n",
      "torch.Size([4, 101, 512])\n",
      "torch.Size([4, 189, 512])\n",
      "torch.Size([4, 239, 512])\n",
      "torch.Size([4, 10, 512])\n",
      "torch.Size([4, 270, 512])\n"
     ]
    },
    {
     "name": "stderr",
     "output_type": "stream",
     "text": [
      "  0%|          | 1482/450338 [00:22<1:59:55, 62.38it/s]"
     ]
    },
    {
     "name": "stdout",
     "output_type": "stream",
     "text": [
      "torch.Size([4, 368, 512])\n",
      "torch.Size([4, 112, 512])\n",
      "torch.Size([4, 59, 512])\n",
      "torch.Size([4, 248, 512])\n",
      "torch.Size([4, 266, 512])\n",
      "torch.Size([4, 123, 512])\n",
      "torch.Size([4, 205, 512])\n",
      "torch.Size([4, 7, 512])\n",
      "torch.Size([4, 93, 512])\n",
      "torch.Size([4, 10, 512])\n",
      "torch.Size([4, 178, 512])\n",
      "torch.Size([4, 64, 512])\n"
     ]
    },
    {
     "name": "stderr",
     "output_type": "stream",
     "text": [
      "  0%|          | 1504/450338 [00:22<1:54:43, 65.21it/s]"
     ]
    },
    {
     "name": "stdout",
     "output_type": "stream",
     "text": [
      "torch.Size([4, 313, 512])\n",
      "torch.Size([4, 103, 512])\n",
      "torch.Size([4, 114, 512])\n",
      "torch.Size([4, 9, 512])\n",
      "torch.Size([4, 285, 512])\n",
      "torch.Size([4, 189, 512])\n",
      "torch.Size([4, 78, 512])\n",
      "torch.Size([4, 152, 512])\n",
      "torch.Size([4, 11, 512])\n",
      "torch.Size([4, 214, 512])\n",
      "torch.Size([4, 165, 512])\n",
      "torch.Size([4, 161, 512])\n",
      "torch.Size([4, 10, 512])\n",
      "torch.Size([4, 147, 512])\n",
      "torch.Size([4, 148, 512])\n"
     ]
    },
    {
     "name": "stderr",
     "output_type": "stream",
     "text": [
      "  0%|          | 1512/450338 [00:23<1:50:30, 67.69it/s]"
     ]
    },
    {
     "name": "stdout",
     "output_type": "stream",
     "text": [
      "torch.Size([4, 12, 512])\n",
      "torch.Size([4, 203, 512])\n",
      "torch.Size([4, 263, 512])\n",
      "torch.Size([4, 178, 512])\n",
      "torch.Size([4, 86, 512])\n",
      "torch.Size([4, 108, 512])\n",
      "torch.Size([4, 105, 512])\n",
      "torch.Size([4, 178, 512])\n",
      "torch.Size([4, 125, 512])\n",
      "torch.Size([4, 84, 512])\n",
      "torch.Size([4, 211, 512])\n",
      "torch.Size([4, 196, 512])\n",
      "torch.Size([4, 377, 512])\n",
      "torch.Size([4, 7, 512])\n"
     ]
    },
    {
     "name": "stderr",
     "output_type": "stream",
     "text": [
      "  0%|          | 1526/450338 [00:23<2:03:45, 60.44it/s]"
     ]
    },
    {
     "name": "stdout",
     "output_type": "stream",
     "text": [
      "torch.Size([4, 410, 512])\n",
      "torch.Size([4, 183, 512])\n",
      "torch.Size([4, 222, 512])\n",
      "torch.Size([4, 287, 512])\n",
      "torch.Size([4, 289, 512])\n",
      "torch.Size([4, 103, 512])\n",
      "torch.Size([4, 133, 512])\n",
      "torch.Size([4, 75, 512])\n",
      "torch.Size([4, 162, 512])\n",
      "torch.Size([4, 65, 512])\n",
      "torch.Size([4, 143, 512])\n",
      "torch.Size([4, 177, 512])\n",
      "torch.Size([4, 117, 512])\n"
     ]
    },
    {
     "name": "stderr",
     "output_type": "stream",
     "text": [
      "  0%|          | 1541/450338 [00:23<2:02:45, 60.93it/s]"
     ]
    },
    {
     "name": "stdout",
     "output_type": "stream",
     "text": [
      "torch.Size([4, 152, 512])\n",
      "torch.Size([4, 182, 512])\n",
      "torch.Size([4, 273, 512])\n",
      "torch.Size([4, 125, 512])\n",
      "torch.Size([4, 111, 512])\n",
      "torch.Size([4, 126, 512])\n",
      "torch.Size([4, 211, 512])\n",
      "torch.Size([4, 195, 512])\n",
      "torch.Size([4, 406, 512])\n",
      "torch.Size([4, 178, 512])\n",
      "torch.Size([4, 323, 512])\n"
     ]
    },
    {
     "name": "stderr",
     "output_type": "stream",
     "text": [
      "  0%|          | 1548/450338 [00:23<1:59:51, 62.40it/s]"
     ]
    },
    {
     "name": "stdout",
     "output_type": "stream",
     "text": [
      "torch.Size([4, 94, 512])\n",
      "torch.Size([4, 214, 512])\n",
      "torch.Size([4, 61, 512])\n",
      "torch.Size([4, 191, 512])\n",
      "torch.Size([4, 74, 512])\n",
      "torch.Size([4, 148, 512])\n",
      "torch.Size([4, 214, 512])\n",
      "torch.Size([4, 268, 512])\n",
      "torch.Size([4, 14, 512])\n",
      "torch.Size([4, 235, 512])\n",
      "torch.Size([4, 219, 512])\n"
     ]
    },
    {
     "name": "stderr",
     "output_type": "stream",
     "text": [
      "  0%|          | 1558/450338 [00:23<1:55:11, 64.94it/s]"
     ]
    },
    {
     "name": "stdout",
     "output_type": "stream",
     "text": [
      "torch.Size([4, 487, 512])\n",
      "torch.Size([4, 276, 512])\n",
      "torch.Size([4, 267, 512])\n",
      "torch.Size([4, 273, 512])\n",
      "torch.Size([4, 228, 512])\n"
     ]
    },
    {
     "name": "stderr",
     "output_type": "stream",
     "text": [
      "\n"
     ]
    },
    {
     "ename": "OutOfMemoryError",
     "evalue": "CUDA out of memory. Tried to allocate 648.00 MiB (GPU 0; 5.67 GiB total capacity; 4.90 GiB already allocated; 187.69 MiB free; 5.33 GiB reserved in total by PyTorch) If reserved memory is >> allocated memory try setting max_split_size_mb to avoid fragmentation.  See documentation for Memory Management and PYTORCH_CUDA_ALLOC_CONF",
     "output_type": "error",
     "traceback": [
      "\u001b[0;31m---------------------------------------------------------------------------\u001b[0m",
      "\u001b[0;31mOutOfMemoryError\u001b[0m                          Traceback (most recent call last)",
      "Cell \u001b[0;32mIn[4], line 16\u001b[0m\n\u001b[1;32m     14\u001b[0m \u001b[38;5;28;01mfor\u001b[39;00m text \u001b[38;5;129;01min\u001b[39;00m tqdm(dataloader):\n\u001b[1;32m     15\u001b[0m     text \u001b[38;5;241m=\u001b[39m text\u001b[38;5;241m.\u001b[39mto(\u001b[38;5;124m'\u001b[39m\u001b[38;5;124mcuda:0\u001b[39m\u001b[38;5;124m'\u001b[39m)\n\u001b[0;32m---> 16\u001b[0m     _, cache \u001b[38;5;241m=\u001b[39m \u001b[43mmodel\u001b[49m\u001b[38;5;241;43m.\u001b[39;49m\u001b[43mrun_with_cache\u001b[49m\u001b[43m(\u001b[49m\u001b[43mtext\u001b[49m\u001b[43m,\u001b[49m\u001b[43m \u001b[49m\u001b[43mremove_batch_dim\u001b[49m\u001b[38;5;241;43m=\u001b[39;49m\u001b[38;5;28;43;01mFalse\u001b[39;49;00m\u001b[43m)\u001b[49m\n\u001b[1;32m     18\u001b[0m     \u001b[38;5;28;01mfor\u001b[39;00m layer \u001b[38;5;129;01min\u001b[39;00m layers:\n\u001b[1;32m     19\u001b[0m         key \u001b[38;5;241m=\u001b[39m \u001b[38;5;124mf\u001b[39m\u001b[38;5;124m\"\u001b[39m\u001b[38;5;124mblocks.\u001b[39m\u001b[38;5;132;01m{\u001b[39;00mlayer\u001b[38;5;132;01m}\u001b[39;00m\u001b[38;5;124m.hook_resid_post\u001b[39m\u001b[38;5;124m\"\u001b[39m\n",
      "File \u001b[0;32m~/.local/lib/python3.10/site-packages/transformer_lens/HookedTransformer.py:429\u001b[0m, in \u001b[0;36mHookedTransformer.run_with_cache\u001b[0;34m(self, return_cache_object, remove_batch_dim, *model_args, **kwargs)\u001b[0m\n\u001b[1;32m    413\u001b[0m \u001b[38;5;28;01mdef\u001b[39;00m \u001b[38;5;21mrun_with_cache\u001b[39m(\n\u001b[1;32m    414\u001b[0m     \u001b[38;5;28mself\u001b[39m, \u001b[38;5;241m*\u001b[39mmodel_args, return_cache_object\u001b[38;5;241m=\u001b[39m\u001b[38;5;28;01mTrue\u001b[39;00m, remove_batch_dim\u001b[38;5;241m=\u001b[39m\u001b[38;5;28;01mFalse\u001b[39;00m, \u001b[38;5;241m*\u001b[39m\u001b[38;5;241m*\u001b[39mkwargs\n\u001b[1;32m    415\u001b[0m ) \u001b[38;5;241m-\u001b[39m\u001b[38;5;241m>\u001b[39m Tuple[\n\u001b[0;32m   (...)\u001b[0m\n\u001b[1;32m    422\u001b[0m     Union[ActivationCache, Dict[\u001b[38;5;28mstr\u001b[39m, torch\u001b[38;5;241m.\u001b[39mTensor]],\n\u001b[1;32m    423\u001b[0m ]:\n\u001b[1;32m    424\u001b[0m \u001b[38;5;250m    \u001b[39m\u001b[38;5;124;03m\"\"\"\u001b[39;00m\n\u001b[1;32m    425\u001b[0m \u001b[38;5;124;03m    Wrapper around run_with_cache in HookedRootModule. If return_cache_object is True, this will return an\u001b[39;00m\n\u001b[1;32m    426\u001b[0m \u001b[38;5;124;03m    ActivationCache object, with a bunch of useful HookedTransformer specific methods, otherwise it will return a\u001b[39;00m\n\u001b[1;32m    427\u001b[0m \u001b[38;5;124;03m    dictionary of activations as in HookedRootModule.\u001b[39;00m\n\u001b[1;32m    428\u001b[0m \u001b[38;5;124;03m    \"\"\"\u001b[39;00m\n\u001b[0;32m--> 429\u001b[0m     out, cache_dict \u001b[38;5;241m=\u001b[39m \u001b[38;5;28;43msuper\u001b[39;49m\u001b[43m(\u001b[49m\u001b[43m)\u001b[49m\u001b[38;5;241;43m.\u001b[39;49m\u001b[43mrun_with_cache\u001b[49m\u001b[43m(\u001b[49m\n\u001b[1;32m    430\u001b[0m \u001b[43m        \u001b[49m\u001b[38;5;241;43m*\u001b[39;49m\u001b[43mmodel_args\u001b[49m\u001b[43m,\u001b[49m\u001b[43m \u001b[49m\u001b[43mremove_batch_dim\u001b[49m\u001b[38;5;241;43m=\u001b[39;49m\u001b[43mremove_batch_dim\u001b[49m\u001b[43m,\u001b[49m\u001b[43m \u001b[49m\u001b[38;5;241;43m*\u001b[39;49m\u001b[38;5;241;43m*\u001b[39;49m\u001b[43mkwargs\u001b[49m\n\u001b[1;32m    431\u001b[0m \u001b[43m    \u001b[49m\u001b[43m)\u001b[49m\n\u001b[1;32m    432\u001b[0m     \u001b[38;5;28;01mif\u001b[39;00m return_cache_object:\n\u001b[1;32m    433\u001b[0m         cache \u001b[38;5;241m=\u001b[39m ActivationCache(\n\u001b[1;32m    434\u001b[0m             cache_dict, \u001b[38;5;28mself\u001b[39m, has_batch_dim\u001b[38;5;241m=\u001b[39m\u001b[38;5;129;01mnot\u001b[39;00m remove_batch_dim\n\u001b[1;32m    435\u001b[0m         )\n",
      "File \u001b[0;32m~/.local/lib/python3.10/site-packages/transformer_lens/hook_points.py:455\u001b[0m, in \u001b[0;36mHookedRootModule.run_with_cache\u001b[0;34m(self, names_filter, device, remove_batch_dim, incl_bwd, reset_hooks_end, clear_contexts, *model_args, **model_kwargs)\u001b[0m\n\u001b[1;32m    445\u001b[0m cache_dict, fwd, bwd \u001b[38;5;241m=\u001b[39m \u001b[38;5;28mself\u001b[39m\u001b[38;5;241m.\u001b[39mget_caching_hooks(\n\u001b[1;32m    446\u001b[0m     names_filter, incl_bwd, device, remove_batch_dim\u001b[38;5;241m=\u001b[39mremove_batch_dim\n\u001b[1;32m    447\u001b[0m )\n\u001b[1;32m    449\u001b[0m \u001b[38;5;28;01mwith\u001b[39;00m \u001b[38;5;28mself\u001b[39m\u001b[38;5;241m.\u001b[39mhooks(\n\u001b[1;32m    450\u001b[0m     fwd_hooks\u001b[38;5;241m=\u001b[39mfwd,\n\u001b[1;32m    451\u001b[0m     bwd_hooks\u001b[38;5;241m=\u001b[39mbwd,\n\u001b[1;32m    452\u001b[0m     reset_hooks_end\u001b[38;5;241m=\u001b[39mreset_hooks_end,\n\u001b[1;32m    453\u001b[0m     clear_contexts\u001b[38;5;241m=\u001b[39mclear_contexts,\n\u001b[1;32m    454\u001b[0m ):\n\u001b[0;32m--> 455\u001b[0m     model_out \u001b[38;5;241m=\u001b[39m \u001b[38;5;28;43mself\u001b[39;49m\u001b[43m(\u001b[49m\u001b[38;5;241;43m*\u001b[39;49m\u001b[43mmodel_args\u001b[49m\u001b[43m,\u001b[49m\u001b[43m \u001b[49m\u001b[38;5;241;43m*\u001b[39;49m\u001b[38;5;241;43m*\u001b[39;49m\u001b[43mmodel_kwargs\u001b[49m\u001b[43m)\u001b[49m\n\u001b[1;32m    456\u001b[0m     \u001b[38;5;28;01mif\u001b[39;00m incl_bwd:\n\u001b[1;32m    457\u001b[0m         model_out\u001b[38;5;241m.\u001b[39mbackward()\n",
      "File \u001b[0;32m~/.local/lib/python3.10/site-packages/torch/nn/modules/module.py:1501\u001b[0m, in \u001b[0;36mModule._call_impl\u001b[0;34m(self, *args, **kwargs)\u001b[0m\n\u001b[1;32m   1496\u001b[0m \u001b[38;5;66;03m# If we don't have any hooks, we want to skip the rest of the logic in\u001b[39;00m\n\u001b[1;32m   1497\u001b[0m \u001b[38;5;66;03m# this function, and just call forward.\u001b[39;00m\n\u001b[1;32m   1498\u001b[0m \u001b[38;5;28;01mif\u001b[39;00m \u001b[38;5;129;01mnot\u001b[39;00m (\u001b[38;5;28mself\u001b[39m\u001b[38;5;241m.\u001b[39m_backward_hooks \u001b[38;5;129;01mor\u001b[39;00m \u001b[38;5;28mself\u001b[39m\u001b[38;5;241m.\u001b[39m_backward_pre_hooks \u001b[38;5;129;01mor\u001b[39;00m \u001b[38;5;28mself\u001b[39m\u001b[38;5;241m.\u001b[39m_forward_hooks \u001b[38;5;129;01mor\u001b[39;00m \u001b[38;5;28mself\u001b[39m\u001b[38;5;241m.\u001b[39m_forward_pre_hooks\n\u001b[1;32m   1499\u001b[0m         \u001b[38;5;129;01mor\u001b[39;00m _global_backward_pre_hooks \u001b[38;5;129;01mor\u001b[39;00m _global_backward_hooks\n\u001b[1;32m   1500\u001b[0m         \u001b[38;5;129;01mor\u001b[39;00m _global_forward_hooks \u001b[38;5;129;01mor\u001b[39;00m _global_forward_pre_hooks):\n\u001b[0;32m-> 1501\u001b[0m     \u001b[38;5;28;01mreturn\u001b[39;00m \u001b[43mforward_call\u001b[49m\u001b[43m(\u001b[49m\u001b[38;5;241;43m*\u001b[39;49m\u001b[43margs\u001b[49m\u001b[43m,\u001b[49m\u001b[43m \u001b[49m\u001b[38;5;241;43m*\u001b[39;49m\u001b[38;5;241;43m*\u001b[39;49m\u001b[43mkwargs\u001b[49m\u001b[43m)\u001b[49m\n\u001b[1;32m   1502\u001b[0m \u001b[38;5;66;03m# Do not call functions when jit is used\u001b[39;00m\n\u001b[1;32m   1503\u001b[0m full_backward_hooks, non_full_backward_hooks \u001b[38;5;241m=\u001b[39m [], []\n",
      "File \u001b[0;32m~/.local/lib/python3.10/site-packages/transformer_lens/HookedTransformer.py:375\u001b[0m, in \u001b[0;36mHookedTransformer.forward\u001b[0;34m(self, input, return_type, loss_per_token, prepend_bos, stop_at_layer, past_kv_cache)\u001b[0m\n\u001b[1;32m    373\u001b[0m     \u001b[38;5;28;01mreturn\u001b[39;00m \u001b[38;5;28;01mNone\u001b[39;00m\n\u001b[1;32m    374\u001b[0m \u001b[38;5;28;01melse\u001b[39;00m:\n\u001b[0;32m--> 375\u001b[0m     logits \u001b[38;5;241m=\u001b[39m \u001b[38;5;28;43mself\u001b[39;49m\u001b[38;5;241;43m.\u001b[39;49m\u001b[43munembed\u001b[49m\u001b[43m(\u001b[49m\u001b[43mresidual\u001b[49m\u001b[43m)\u001b[49m  \u001b[38;5;66;03m# [batch, pos, d_vocab]\u001b[39;00m\n\u001b[1;32m    376\u001b[0m     \u001b[38;5;28;01mif\u001b[39;00m return_type \u001b[38;5;241m==\u001b[39m \u001b[38;5;124m\"\u001b[39m\u001b[38;5;124mlogits\u001b[39m\u001b[38;5;124m\"\u001b[39m:\n\u001b[1;32m    377\u001b[0m         \u001b[38;5;28;01mreturn\u001b[39;00m logits\n",
      "File \u001b[0;32m~/.local/lib/python3.10/site-packages/torch/nn/modules/module.py:1501\u001b[0m, in \u001b[0;36mModule._call_impl\u001b[0;34m(self, *args, **kwargs)\u001b[0m\n\u001b[1;32m   1496\u001b[0m \u001b[38;5;66;03m# If we don't have any hooks, we want to skip the rest of the logic in\u001b[39;00m\n\u001b[1;32m   1497\u001b[0m \u001b[38;5;66;03m# this function, and just call forward.\u001b[39;00m\n\u001b[1;32m   1498\u001b[0m \u001b[38;5;28;01mif\u001b[39;00m \u001b[38;5;129;01mnot\u001b[39;00m (\u001b[38;5;28mself\u001b[39m\u001b[38;5;241m.\u001b[39m_backward_hooks \u001b[38;5;129;01mor\u001b[39;00m \u001b[38;5;28mself\u001b[39m\u001b[38;5;241m.\u001b[39m_backward_pre_hooks \u001b[38;5;129;01mor\u001b[39;00m \u001b[38;5;28mself\u001b[39m\u001b[38;5;241m.\u001b[39m_forward_hooks \u001b[38;5;129;01mor\u001b[39;00m \u001b[38;5;28mself\u001b[39m\u001b[38;5;241m.\u001b[39m_forward_pre_hooks\n\u001b[1;32m   1499\u001b[0m         \u001b[38;5;129;01mor\u001b[39;00m _global_backward_pre_hooks \u001b[38;5;129;01mor\u001b[39;00m _global_backward_hooks\n\u001b[1;32m   1500\u001b[0m         \u001b[38;5;129;01mor\u001b[39;00m _global_forward_hooks \u001b[38;5;129;01mor\u001b[39;00m _global_forward_pre_hooks):\n\u001b[0;32m-> 1501\u001b[0m     \u001b[38;5;28;01mreturn\u001b[39;00m \u001b[43mforward_call\u001b[49m\u001b[43m(\u001b[49m\u001b[38;5;241;43m*\u001b[39;49m\u001b[43margs\u001b[49m\u001b[43m,\u001b[49m\u001b[43m \u001b[49m\u001b[38;5;241;43m*\u001b[39;49m\u001b[38;5;241;43m*\u001b[39;49m\u001b[43mkwargs\u001b[49m\u001b[43m)\u001b[49m\n\u001b[1;32m   1502\u001b[0m \u001b[38;5;66;03m# Do not call functions when jit is used\u001b[39;00m\n\u001b[1;32m   1503\u001b[0m full_backward_hooks, non_full_backward_hooks \u001b[38;5;241m=\u001b[39m [], []\n",
      "File \u001b[0;32m~/.local/lib/python3.10/site-packages/transformer_lens/components.py:58\u001b[0m, in \u001b[0;36mUnembed.forward\u001b[0;34m(self, residual)\u001b[0m\n\u001b[1;32m     54\u001b[0m \u001b[38;5;28;01mdef\u001b[39;00m \u001b[38;5;21mforward\u001b[39m(\n\u001b[1;32m     55\u001b[0m     \u001b[38;5;28mself\u001b[39m, residual: Float[torch\u001b[38;5;241m.\u001b[39mTensor, \u001b[38;5;124m\"\u001b[39m\u001b[38;5;124mbatch pos d_model\u001b[39m\u001b[38;5;124m\"\u001b[39m]\n\u001b[1;32m     56\u001b[0m ) \u001b[38;5;241m-\u001b[39m\u001b[38;5;241m>\u001b[39m Float[torch\u001b[38;5;241m.\u001b[39mTensor, \u001b[38;5;124m\"\u001b[39m\u001b[38;5;124mbatch pos d_vocab_out\u001b[39m\u001b[38;5;124m\"\u001b[39m]:\n\u001b[1;32m     57\u001b[0m     \u001b[38;5;28;01mreturn\u001b[39;00m (\n\u001b[0;32m---> 58\u001b[0m         \u001b[43meinsum\u001b[49m\u001b[43m(\u001b[49m\n\u001b[1;32m     59\u001b[0m \u001b[43m            \u001b[49m\u001b[38;5;124;43m\"\u001b[39;49m\u001b[38;5;124;43mbatch pos d_model, d_model vocab -> batch pos vocab\u001b[39;49m\u001b[38;5;124;43m\"\u001b[39;49m\u001b[43m,\u001b[49m\n\u001b[1;32m     60\u001b[0m \u001b[43m            \u001b[49m\u001b[43mresidual\u001b[49m\u001b[43m,\u001b[49m\n\u001b[1;32m     61\u001b[0m \u001b[43m            \u001b[49m\u001b[38;5;28;43mself\u001b[39;49m\u001b[38;5;241;43m.\u001b[39;49m\u001b[43mW_U\u001b[49m\u001b[43m,\u001b[49m\n\u001b[1;32m     62\u001b[0m \u001b[43m        \u001b[49m\u001b[43m)\u001b[49m\n\u001b[1;32m     63\u001b[0m         \u001b[38;5;241m+\u001b[39m \u001b[38;5;28mself\u001b[39m\u001b[38;5;241m.\u001b[39mb_U\n\u001b[1;32m     64\u001b[0m     )\n",
      "File \u001b[0;32m~/.local/lib/python3.10/site-packages/fancy_einsum/__init__.py:136\u001b[0m, in \u001b[0;36meinsum\u001b[0;34m(equation, *operands)\u001b[0m\n\u001b[1;32m    134\u001b[0m backend \u001b[38;5;241m=\u001b[39m get_backend(operands[\u001b[38;5;241m0\u001b[39m])\n\u001b[1;32m    135\u001b[0m new_equation \u001b[38;5;241m=\u001b[39m convert_equation(equation)\n\u001b[0;32m--> 136\u001b[0m \u001b[38;5;28;01mreturn\u001b[39;00m \u001b[43mbackend\u001b[49m\u001b[38;5;241;43m.\u001b[39;49m\u001b[43meinsum\u001b[49m\u001b[43m(\u001b[49m\u001b[43mnew_equation\u001b[49m\u001b[43m,\u001b[49m\u001b[43m \u001b[49m\u001b[38;5;241;43m*\u001b[39;49m\u001b[43moperands\u001b[49m\u001b[43m)\u001b[49m\n",
      "File \u001b[0;32m~/.local/lib/python3.10/site-packages/fancy_einsum/__init__.py:54\u001b[0m, in \u001b[0;36mTorchBackend.einsum\u001b[0;34m(self, equation, *operands)\u001b[0m\n\u001b[1;32m     53\u001b[0m \u001b[38;5;28;01mdef\u001b[39;00m \u001b[38;5;21meinsum\u001b[39m(\u001b[38;5;28mself\u001b[39m, equation, \u001b[38;5;241m*\u001b[39moperands):\n\u001b[0;32m---> 54\u001b[0m     \u001b[38;5;28;01mreturn\u001b[39;00m \u001b[38;5;28;43mself\u001b[39;49m\u001b[38;5;241;43m.\u001b[39;49m\u001b[43mtorch\u001b[49m\u001b[38;5;241;43m.\u001b[39;49m\u001b[43meinsum\u001b[49m\u001b[43m(\u001b[49m\u001b[43mequation\u001b[49m\u001b[43m,\u001b[49m\u001b[43m \u001b[49m\u001b[38;5;241;43m*\u001b[39;49m\u001b[43moperands\u001b[49m\u001b[43m)\u001b[49m\n",
      "File \u001b[0;32m~/.local/lib/python3.10/site-packages/torch/functional.py:378\u001b[0m, in \u001b[0;36meinsum\u001b[0;34m(*args)\u001b[0m\n\u001b[1;32m    373\u001b[0m     \u001b[38;5;28;01mreturn\u001b[39;00m einsum(equation, \u001b[38;5;241m*\u001b[39m_operands)\n\u001b[1;32m    375\u001b[0m \u001b[38;5;28;01mif\u001b[39;00m \u001b[38;5;28mlen\u001b[39m(operands) \u001b[38;5;241m<\u001b[39m\u001b[38;5;241m=\u001b[39m \u001b[38;5;241m2\u001b[39m \u001b[38;5;129;01mor\u001b[39;00m \u001b[38;5;129;01mnot\u001b[39;00m opt_einsum\u001b[38;5;241m.\u001b[39menabled:\n\u001b[1;32m    376\u001b[0m     \u001b[38;5;66;03m# the path for contracting 0 or 1 time(s) is already optimized\u001b[39;00m\n\u001b[1;32m    377\u001b[0m     \u001b[38;5;66;03m# or the user has disabled using opt_einsum\u001b[39;00m\n\u001b[0;32m--> 378\u001b[0m     \u001b[38;5;28;01mreturn\u001b[39;00m \u001b[43m_VF\u001b[49m\u001b[38;5;241;43m.\u001b[39;49m\u001b[43meinsum\u001b[49m\u001b[43m(\u001b[49m\u001b[43mequation\u001b[49m\u001b[43m,\u001b[49m\u001b[43m \u001b[49m\u001b[43moperands\u001b[49m\u001b[43m)\u001b[49m  \u001b[38;5;66;03m# type: ignore[attr-defined]\u001b[39;00m\n\u001b[1;32m    380\u001b[0m path \u001b[38;5;241m=\u001b[39m \u001b[38;5;28;01mNone\u001b[39;00m\n\u001b[1;32m    381\u001b[0m \u001b[38;5;28;01mif\u001b[39;00m opt_einsum\u001b[38;5;241m.\u001b[39mis_available():\n",
      "\u001b[0;31mOutOfMemoryError\u001b[0m: CUDA out of memory. Tried to allocate 648.00 MiB (GPU 0; 5.67 GiB total capacity; 4.90 GiB already allocated; 187.69 MiB free; 5.33 GiB reserved in total by PyTorch) If reserved memory is >> allocated memory try setting max_split_size_mb to avoid fragmentation.  See documentation for Memory Management and PYTORCH_CUDA_ALLOC_CONF"
     ]
    }
   ],
   "source": [
    "layers = list(range(1, 2))\n",
    "activations = {}\n",
    "for layer in layers:\n",
    "    activations[layer] = []\n",
    "\n",
    "def create_batch(batch):\n",
    "    texts = [item[\"text\"] for item in batch]\n",
    "    tokens = model.to_tokens(texts)\n",
    "    return tokens\n",
    "\n",
    "dataloader = DataLoader(dataset, batch_size=4, shuffle=False, collate_fn=create_batch)\n",
    "\n",
    "\n",
    "for text in tqdm(dataloader):\n",
    "    text = text.to('cuda:0')\n",
    "    _, cache = model.run_with_cache(text, remove_batch_dim=False)\n",
    "\n",
    "    for layer in layers:\n",
    "        key = f\"blocks.{layer}.hook_resid_post\"\n",
    "        print(cache[key].shape)\n",
    "        activations[layer].append(cache[key])\n",
    "\n",
    "    # algum leak aqui, memória sobe sem parar\n",
    "\n",
    "    # nem isso funciona :/\n",
    "    del text\n",
    "    del cache\n",
    "    del _\n",
    "\n",
    "\n",
    "activations\n"
   ]
  },
  {
   "cell_type": "code",
   "execution_count": 6,
   "metadata": {},
   "outputs": [],
   "source": [
    "torch.cuda.empty_cache()"
   ]
  }
 ],
 "metadata": {
  "kernelspec": {
   "display_name": "Python 3",
   "language": "python",
   "name": "python3"
  },
  "language_info": {
   "codemirror_mode": {
    "name": "ipython",
    "version": 3
   },
   "file_extension": ".py",
   "mimetype": "text/x-python",
   "name": "python",
   "nbconvert_exporter": "python",
   "pygments_lexer": "ipython3",
   "version": "3.10.12"
  }
 },
 "nbformat": 4,
 "nbformat_minor": 2
}
